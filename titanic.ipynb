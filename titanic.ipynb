{
 "cells": [
  {
   "cell_type": "markdown",
   "id": "44daf043-bce1-4a9f-9212-6748efae3ff9",
   "metadata": {},
   "source": [
    "### INTRODUCTION\n",
    "\n",
    " - The sinking of the Titanic is one of the most famous ships in history. On April 15, 1912, the Titanic sank after colliding with an iceberg while cruising, killing 1,502 of its 2,224 passengers and crew. The exciting event shocked the international community and led to better ship safety management. \n",
    " \n",
    " - One of the reasons why these wrecks caused so many casualties was that there were not enough lifeboats for passengers and crew. While there is some chance of surviving the sinking, some groups, such as women, children, and the upper classes, are more likely to survive than others."
   ]
  },
  {
   "cell_type": "markdown",
   "id": "f09af07d-80aa-4527-8792-cdcff2fbf7bb",
   "metadata": {},
   "source": [
    "### The Challenge\n",
    "\n",
    "In this challenge, I will analyze and use ML algorithms to predict **which passengers will survive the crash**, using passenger data (ie name, age, gender, socio-economic class, etc)."
   ]
  },
  {
   "cell_type": "code",
   "execution_count": 530,
   "id": "b9d9838c-ac49-401e-aefc-173ecd7a8143",
   "metadata": {},
   "outputs": [],
   "source": [
    "#Import required Libraries\n",
    "\n",
    "import pandas as pd #library for working with data\n",
    "import numpy as np #library for working with numeric data\n",
    "from matplotlib import pyplot as plt #library for data visualization\n",
    "import seaborn as sns #library for data visualization (statistical graphs)\n",
    "from scipy import stats #library for statistical functions\n",
    "\n",
    "import warnings\n",
    "warnings.simplefilter(action='ignore', category=FutureWarning)\n",
    "\n",
    "#data split into train/val/test\n",
    "from sklearn.model_selection import train_test_split \n",
    "#Standardize features by removing the mean and scaling to unit variance\n",
    "from sklearn.preprocessing import OneHotEncoder, LabelEncoder, StandardScaler \n",
    "from sklearn.metrics import roc_curve, auc\n",
    "from sklearn.model_selection import StratifiedKFold\n",
    "\n",
    "# machine learning\n",
    "from sklearn.linear_model import LogisticRegression\n",
    "from sklearn.svm import SVC, LinearSVC\n",
    "from sklearn.ensemble import RandomForestClassifier\n",
    "from sklearn.neighbors import KNeighborsClassifier\n",
    "from sklearn.naive_bayes import GaussianNB\n",
    "from sklearn.linear_model import Perceptron\n",
    "from sklearn.linear_model import SGDClassifier\n",
    "from sklearn.tree import DecisionTreeClassifier"
   ]
  },
  {
   "cell_type": "markdown",
   "id": "cdf20037-9bfa-4402-b277-31abf6c3dfad",
   "metadata": {},
   "source": [
    "### Exploratory Data Analysis (EDA)"
   ]
  },
  {
   "cell_type": "code",
   "execution_count": 531,
   "id": "f560e04e-706c-4a4c-8add-3f2cee7f2171",
   "metadata": {},
   "outputs": [
    {
     "data": {
      "text/html": [
       "<div>\n",
       "<style scoped>\n",
       "    .dataframe tbody tr th:only-of-type {\n",
       "        vertical-align: middle;\n",
       "    }\n",
       "\n",
       "    .dataframe tbody tr th {\n",
       "        vertical-align: top;\n",
       "    }\n",
       "\n",
       "    .dataframe thead th {\n",
       "        text-align: right;\n",
       "    }\n",
       "</style>\n",
       "<table border=\"1\" class=\"dataframe\">\n",
       "  <thead>\n",
       "    <tr style=\"text-align: right;\">\n",
       "      <th></th>\n",
       "      <th>Age</th>\n",
       "      <th>Cabin</th>\n",
       "      <th>Embarked</th>\n",
       "      <th>Fare</th>\n",
       "      <th>Name</th>\n",
       "      <th>Parch</th>\n",
       "      <th>PassengerId</th>\n",
       "      <th>Pclass</th>\n",
       "      <th>Sex</th>\n",
       "      <th>SibSp</th>\n",
       "      <th>Survived</th>\n",
       "      <th>Ticket</th>\n",
       "    </tr>\n",
       "  </thead>\n",
       "  <tbody>\n",
       "    <tr>\n",
       "      <th>0</th>\n",
       "      <td>22.0</td>\n",
       "      <td>NaN</td>\n",
       "      <td>S</td>\n",
       "      <td>7.2500</td>\n",
       "      <td>Braund, Mr. Owen Harris</td>\n",
       "      <td>0</td>\n",
       "      <td>1</td>\n",
       "      <td>3</td>\n",
       "      <td>male</td>\n",
       "      <td>1</td>\n",
       "      <td>0.0</td>\n",
       "      <td>A/5 21171</td>\n",
       "    </tr>\n",
       "    <tr>\n",
       "      <th>1</th>\n",
       "      <td>38.0</td>\n",
       "      <td>C85</td>\n",
       "      <td>C</td>\n",
       "      <td>71.2833</td>\n",
       "      <td>Cumings, Mrs. John Bradley (Florence Briggs Th...</td>\n",
       "      <td>0</td>\n",
       "      <td>2</td>\n",
       "      <td>1</td>\n",
       "      <td>female</td>\n",
       "      <td>1</td>\n",
       "      <td>1.0</td>\n",
       "      <td>PC 17599</td>\n",
       "    </tr>\n",
       "    <tr>\n",
       "      <th>2</th>\n",
       "      <td>26.0</td>\n",
       "      <td>NaN</td>\n",
       "      <td>S</td>\n",
       "      <td>7.9250</td>\n",
       "      <td>Heikkinen, Miss. Laina</td>\n",
       "      <td>0</td>\n",
       "      <td>3</td>\n",
       "      <td>3</td>\n",
       "      <td>female</td>\n",
       "      <td>0</td>\n",
       "      <td>1.0</td>\n",
       "      <td>STON/O2. 3101282</td>\n",
       "    </tr>\n",
       "    <tr>\n",
       "      <th>3</th>\n",
       "      <td>35.0</td>\n",
       "      <td>C123</td>\n",
       "      <td>S</td>\n",
       "      <td>53.1000</td>\n",
       "      <td>Futrelle, Mrs. Jacques Heath (Lily May Peel)</td>\n",
       "      <td>0</td>\n",
       "      <td>4</td>\n",
       "      <td>1</td>\n",
       "      <td>female</td>\n",
       "      <td>1</td>\n",
       "      <td>1.0</td>\n",
       "      <td>113803</td>\n",
       "    </tr>\n",
       "    <tr>\n",
       "      <th>4</th>\n",
       "      <td>35.0</td>\n",
       "      <td>NaN</td>\n",
       "      <td>S</td>\n",
       "      <td>8.0500</td>\n",
       "      <td>Allen, Mr. William Henry</td>\n",
       "      <td>0</td>\n",
       "      <td>5</td>\n",
       "      <td>3</td>\n",
       "      <td>male</td>\n",
       "      <td>0</td>\n",
       "      <td>0.0</td>\n",
       "      <td>373450</td>\n",
       "    </tr>\n",
       "  </tbody>\n",
       "</table>\n",
       "</div>"
      ],
      "text/plain": [
       "    Age Cabin Embarked     Fare  \\\n",
       "0  22.0   NaN        S   7.2500   \n",
       "1  38.0   C85        C  71.2833   \n",
       "2  26.0   NaN        S   7.9250   \n",
       "3  35.0  C123        S  53.1000   \n",
       "4  35.0   NaN        S   8.0500   \n",
       "\n",
       "                                                Name  Parch  PassengerId  \\\n",
       "0                            Braund, Mr. Owen Harris      0            1   \n",
       "1  Cumings, Mrs. John Bradley (Florence Briggs Th...      0            2   \n",
       "2                             Heikkinen, Miss. Laina      0            3   \n",
       "3       Futrelle, Mrs. Jacques Heath (Lily May Peel)      0            4   \n",
       "4                           Allen, Mr. William Henry      0            5   \n",
       "\n",
       "   Pclass     Sex  SibSp  Survived            Ticket  \n",
       "0       3    male      1       0.0         A/5 21171  \n",
       "1       1  female      1       1.0          PC 17599  \n",
       "2       3  female      0       1.0  STON/O2. 3101282  \n",
       "3       1  female      1       1.0            113803  \n",
       "4       3    male      0       0.0            373450  "
      ]
     },
     "execution_count": 531,
     "metadata": {},
     "output_type": "execute_result"
    }
   ],
   "source": [
    "# reading train and test data into notebook\n",
    "train_data = pd.read_csv('train.csv')\n",
    "test_data = pd.read_csv('test.csv')\n",
    "all_data = pd.concat([train_data, test_data], sort=True).reset_index(drop=True)\n",
    "\n",
    "all_data.head(5)"
   ]
  },
  {
   "cell_type": "code",
   "execution_count": 532,
   "id": "0f52a6b7-fe14-436e-aa4c-08a5dc311313",
   "metadata": {},
   "outputs": [
    {
     "data": {
      "text/plain": [
       "(891, 12)"
      ]
     },
     "execution_count": 532,
     "metadata": {},
     "output_type": "execute_result"
    }
   ],
   "source": [
    "train_data.shape"
   ]
  },
  {
   "cell_type": "code",
   "execution_count": 533,
   "id": "d691d1ca-a2e4-4911-acd0-1274e0455cb9",
   "metadata": {},
   "outputs": [
    {
     "data": {
      "text/plain": [
       "(418, 11)"
      ]
     },
     "execution_count": 533,
     "metadata": {},
     "output_type": "execute_result"
    }
   ],
   "source": [
    "test_data.shape"
   ]
  },
  {
   "cell_type": "code",
   "execution_count": 534,
   "id": "82764b3b-5eb5-490c-ac08-c05000fc35c6",
   "metadata": {},
   "outputs": [
    {
     "data": {
      "text/plain": [
       "(1309, 12)"
      ]
     },
     "execution_count": 534,
     "metadata": {},
     "output_type": "execute_result"
    }
   ],
   "source": [
    "all_data.shape"
   ]
  },
  {
   "cell_type": "code",
   "execution_count": 535,
   "id": "b5c2e965-844a-45a6-a9be-920fdd73b564",
   "metadata": {},
   "outputs": [
    {
     "data": {
      "text/plain": [
       "array([3, 1, 2])"
      ]
     },
     "execution_count": 535,
     "metadata": {},
     "output_type": "execute_result"
    }
   ],
   "source": [
    "train_data['Pclass'].unique()     "
   ]
  },
  {
   "cell_type": "code",
   "execution_count": 536,
   "id": "9e1a2f92-227f-4053-9d4b-8906ebf67781",
   "metadata": {},
   "outputs": [
    {
     "data": {
      "text/plain": [
       "array(['male', 'female'], dtype=object)"
      ]
     },
     "execution_count": 536,
     "metadata": {},
     "output_type": "execute_result"
    }
   ],
   "source": [
    "train_data['Sex'].unique()\n"
   ]
  },
  {
   "cell_type": "code",
   "execution_count": 537,
   "id": "45d6b125-7ce5-411c-ac83-30e3ffc3d9a8",
   "metadata": {},
   "outputs": [
    {
     "name": "stdout",
     "output_type": "stream",
     "text": [
      "Maximum age of a passenger on the Titanic: 80.0 years\n",
      "Minimum age of a passenger on the Titanic: 0.42 years\n"
     ]
    }
   ],
   "source": [
    "max_age = train_data['Age'].max()\n",
    "min_age = train_data['Age'].min()\n",
    "\n",
    "print(f'Maximum age of a passenger on the Titanic: {max_age} years')\n",
    "print(f'Minimum age of a passenger on the Titanic: {min_age} years')"
   ]
  },
  {
   "cell_type": "code",
   "execution_count": 538,
   "id": "4f805231-b99b-45a2-9520-721a5aa37847",
   "metadata": {},
   "outputs": [
    {
     "name": "stdout",
     "output_type": "stream",
     "text": [
      "Maximum Passenger fare: 512.3292\n",
      "Minimum Passenger fare: 0.0\n"
     ]
    }
   ],
   "source": [
    "max_fare = train_data['Fare'].max()\n",
    "min_fare = train_data['Fare'].min()\n",
    "\n",
    "print(f'Maximum Passenger fare: {max_fare}')\n",
    "print(f'Minimum Passenger fare: {min_fare}')"
   ]
  },
  {
   "cell_type": "code",
   "execution_count": 539,
   "id": "22b3244a-8d09-4449-a532-a171767e6c29",
   "metadata": {},
   "outputs": [
    {
     "data": {
      "text/plain": [
       "array(['S', 'C', 'Q', nan], dtype=object)"
      ]
     },
     "execution_count": 539,
     "metadata": {},
     "output_type": "execute_result"
    }
   ],
   "source": [
    "train_data['Embarked'].unique()  "
   ]
  },
  {
   "cell_type": "code",
   "execution_count": 540,
   "id": "19bebe9f-b355-4dc3-9693-f7a42001aa0f",
   "metadata": {},
   "outputs": [
    {
     "data": {
      "text/html": [
       "<div>\n",
       "<style scoped>\n",
       "    .dataframe tbody tr th:only-of-type {\n",
       "        vertical-align: middle;\n",
       "    }\n",
       "\n",
       "    .dataframe tbody tr th {\n",
       "        vertical-align: top;\n",
       "    }\n",
       "\n",
       "    .dataframe thead th {\n",
       "        text-align: right;\n",
       "    }\n",
       "</style>\n",
       "<table border=\"1\" class=\"dataframe\">\n",
       "  <thead>\n",
       "    <tr style=\"text-align: right;\">\n",
       "      <th></th>\n",
       "      <th>PassengerId</th>\n",
       "      <th>Survived</th>\n",
       "      <th>Pclass</th>\n",
       "      <th>Name</th>\n",
       "      <th>Sex</th>\n",
       "      <th>Age</th>\n",
       "      <th>SibSp</th>\n",
       "      <th>Parch</th>\n",
       "      <th>Ticket</th>\n",
       "      <th>Fare</th>\n",
       "      <th>Cabin</th>\n",
       "      <th>Embarked</th>\n",
       "    </tr>\n",
       "  </thead>\n",
       "  <tbody>\n",
       "    <tr>\n",
       "      <th>count</th>\n",
       "      <td>891.000000</td>\n",
       "      <td>891.000000</td>\n",
       "      <td>891.000000</td>\n",
       "      <td>891</td>\n",
       "      <td>891</td>\n",
       "      <td>714.000000</td>\n",
       "      <td>891.000000</td>\n",
       "      <td>891.000000</td>\n",
       "      <td>891</td>\n",
       "      <td>891.000000</td>\n",
       "      <td>204</td>\n",
       "      <td>889</td>\n",
       "    </tr>\n",
       "    <tr>\n",
       "      <th>unique</th>\n",
       "      <td>NaN</td>\n",
       "      <td>NaN</td>\n",
       "      <td>NaN</td>\n",
       "      <td>891</td>\n",
       "      <td>2</td>\n",
       "      <td>NaN</td>\n",
       "      <td>NaN</td>\n",
       "      <td>NaN</td>\n",
       "      <td>681</td>\n",
       "      <td>NaN</td>\n",
       "      <td>147</td>\n",
       "      <td>3</td>\n",
       "    </tr>\n",
       "    <tr>\n",
       "      <th>top</th>\n",
       "      <td>NaN</td>\n",
       "      <td>NaN</td>\n",
       "      <td>NaN</td>\n",
       "      <td>Braund, Mr. Owen Harris</td>\n",
       "      <td>male</td>\n",
       "      <td>NaN</td>\n",
       "      <td>NaN</td>\n",
       "      <td>NaN</td>\n",
       "      <td>347082</td>\n",
       "      <td>NaN</td>\n",
       "      <td>B96 B98</td>\n",
       "      <td>S</td>\n",
       "    </tr>\n",
       "    <tr>\n",
       "      <th>freq</th>\n",
       "      <td>NaN</td>\n",
       "      <td>NaN</td>\n",
       "      <td>NaN</td>\n",
       "      <td>1</td>\n",
       "      <td>577</td>\n",
       "      <td>NaN</td>\n",
       "      <td>NaN</td>\n",
       "      <td>NaN</td>\n",
       "      <td>7</td>\n",
       "      <td>NaN</td>\n",
       "      <td>4</td>\n",
       "      <td>644</td>\n",
       "    </tr>\n",
       "    <tr>\n",
       "      <th>mean</th>\n",
       "      <td>446.000000</td>\n",
       "      <td>0.383838</td>\n",
       "      <td>2.308642</td>\n",
       "      <td>NaN</td>\n",
       "      <td>NaN</td>\n",
       "      <td>29.699118</td>\n",
       "      <td>0.523008</td>\n",
       "      <td>0.381594</td>\n",
       "      <td>NaN</td>\n",
       "      <td>32.204208</td>\n",
       "      <td>NaN</td>\n",
       "      <td>NaN</td>\n",
       "    </tr>\n",
       "    <tr>\n",
       "      <th>std</th>\n",
       "      <td>257.353842</td>\n",
       "      <td>0.486592</td>\n",
       "      <td>0.836071</td>\n",
       "      <td>NaN</td>\n",
       "      <td>NaN</td>\n",
       "      <td>14.526497</td>\n",
       "      <td>1.102743</td>\n",
       "      <td>0.806057</td>\n",
       "      <td>NaN</td>\n",
       "      <td>49.693429</td>\n",
       "      <td>NaN</td>\n",
       "      <td>NaN</td>\n",
       "    </tr>\n",
       "    <tr>\n",
       "      <th>min</th>\n",
       "      <td>1.000000</td>\n",
       "      <td>0.000000</td>\n",
       "      <td>1.000000</td>\n",
       "      <td>NaN</td>\n",
       "      <td>NaN</td>\n",
       "      <td>0.420000</td>\n",
       "      <td>0.000000</td>\n",
       "      <td>0.000000</td>\n",
       "      <td>NaN</td>\n",
       "      <td>0.000000</td>\n",
       "      <td>NaN</td>\n",
       "      <td>NaN</td>\n",
       "    </tr>\n",
       "    <tr>\n",
       "      <th>25%</th>\n",
       "      <td>223.500000</td>\n",
       "      <td>0.000000</td>\n",
       "      <td>2.000000</td>\n",
       "      <td>NaN</td>\n",
       "      <td>NaN</td>\n",
       "      <td>20.125000</td>\n",
       "      <td>0.000000</td>\n",
       "      <td>0.000000</td>\n",
       "      <td>NaN</td>\n",
       "      <td>7.910400</td>\n",
       "      <td>NaN</td>\n",
       "      <td>NaN</td>\n",
       "    </tr>\n",
       "    <tr>\n",
       "      <th>50%</th>\n",
       "      <td>446.000000</td>\n",
       "      <td>0.000000</td>\n",
       "      <td>3.000000</td>\n",
       "      <td>NaN</td>\n",
       "      <td>NaN</td>\n",
       "      <td>28.000000</td>\n",
       "      <td>0.000000</td>\n",
       "      <td>0.000000</td>\n",
       "      <td>NaN</td>\n",
       "      <td>14.454200</td>\n",
       "      <td>NaN</td>\n",
       "      <td>NaN</td>\n",
       "    </tr>\n",
       "    <tr>\n",
       "      <th>75%</th>\n",
       "      <td>668.500000</td>\n",
       "      <td>1.000000</td>\n",
       "      <td>3.000000</td>\n",
       "      <td>NaN</td>\n",
       "      <td>NaN</td>\n",
       "      <td>38.000000</td>\n",
       "      <td>1.000000</td>\n",
       "      <td>0.000000</td>\n",
       "      <td>NaN</td>\n",
       "      <td>31.000000</td>\n",
       "      <td>NaN</td>\n",
       "      <td>NaN</td>\n",
       "    </tr>\n",
       "    <tr>\n",
       "      <th>max</th>\n",
       "      <td>891.000000</td>\n",
       "      <td>1.000000</td>\n",
       "      <td>3.000000</td>\n",
       "      <td>NaN</td>\n",
       "      <td>NaN</td>\n",
       "      <td>80.000000</td>\n",
       "      <td>8.000000</td>\n",
       "      <td>6.000000</td>\n",
       "      <td>NaN</td>\n",
       "      <td>512.329200</td>\n",
       "      <td>NaN</td>\n",
       "      <td>NaN</td>\n",
       "    </tr>\n",
       "  </tbody>\n",
       "</table>\n",
       "</div>"
      ],
      "text/plain": [
       "        PassengerId    Survived      Pclass                     Name   Sex  \\\n",
       "count    891.000000  891.000000  891.000000                      891   891   \n",
       "unique          NaN         NaN         NaN                      891     2   \n",
       "top             NaN         NaN         NaN  Braund, Mr. Owen Harris  male   \n",
       "freq            NaN         NaN         NaN                        1   577   \n",
       "mean     446.000000    0.383838    2.308642                      NaN   NaN   \n",
       "std      257.353842    0.486592    0.836071                      NaN   NaN   \n",
       "min        1.000000    0.000000    1.000000                      NaN   NaN   \n",
       "25%      223.500000    0.000000    2.000000                      NaN   NaN   \n",
       "50%      446.000000    0.000000    3.000000                      NaN   NaN   \n",
       "75%      668.500000    1.000000    3.000000                      NaN   NaN   \n",
       "max      891.000000    1.000000    3.000000                      NaN   NaN   \n",
       "\n",
       "               Age       SibSp       Parch  Ticket        Fare    Cabin  \\\n",
       "count   714.000000  891.000000  891.000000     891  891.000000      204   \n",
       "unique         NaN         NaN         NaN     681         NaN      147   \n",
       "top            NaN         NaN         NaN  347082         NaN  B96 B98   \n",
       "freq           NaN         NaN         NaN       7         NaN        4   \n",
       "mean     29.699118    0.523008    0.381594     NaN   32.204208      NaN   \n",
       "std      14.526497    1.102743    0.806057     NaN   49.693429      NaN   \n",
       "min       0.420000    0.000000    0.000000     NaN    0.000000      NaN   \n",
       "25%      20.125000    0.000000    0.000000     NaN    7.910400      NaN   \n",
       "50%      28.000000    0.000000    0.000000     NaN   14.454200      NaN   \n",
       "75%      38.000000    1.000000    0.000000     NaN   31.000000      NaN   \n",
       "max      80.000000    8.000000    6.000000     NaN  512.329200      NaN   \n",
       "\n",
       "       Embarked  \n",
       "count       889  \n",
       "unique        3  \n",
       "top           S  \n",
       "freq        644  \n",
       "mean        NaN  \n",
       "std         NaN  \n",
       "min         NaN  \n",
       "25%         NaN  \n",
       "50%         NaN  \n",
       "75%         NaN  \n",
       "max         NaN  "
      ]
     },
     "execution_count": 540,
     "metadata": {},
     "output_type": "execute_result"
    }
   ],
   "source": [
    "train_data.describe(include = \"all\")"
   ]
  },
  {
   "cell_type": "markdown",
   "id": "a7af6aba-b69f-49dd-9edf-785b6096eede",
   "metadata": {},
   "source": [
    "We have a small amount of data (891 or 40% of the actual number of passengers on board the Titanic (2,224)) about passengers with eleven features (since the twelfth column \"Survived\" in train_data is our target variable) on train_data. And 418 on test_data.\n",
    "\n",
    "1. `Survived` - our target variable (0 = No, 1 = Yes)\n",
    "2. `PassengerId` - passenger number \n",
    "3. `Pclass` - Ticket class (1 = 1st (Upper), 2 = 2nd (Middle), 3 = 3rd (Lower))  - **categorical feature**\n",
    "4. `Name` - passenger's name\n",
    "5. `Sex` - passenger's sex - **binary categorical feature** (male, female)\n",
    "6. `Age` - passenger's age from 0,42 to 80 years - **numeric feature (Continuous)**\n",
    "7. `SibSp` - quantity of siblings/spouses aboard the Titanic - **numeric feature (Discrete)**\n",
    "8. `Parch` - quantity of parents/children aboard the Titanic - **numeric feature**\n",
    "9. `Ticket` - Ticket number - **alphanumeric features**\n",
    "10. `Fare` - Passenger fare - **numeric feature (Continuous)**\n",
    "11. `Cabin` - Cabin number - **alphanumeric features**\n",
    "12. `Embarked` - Port of Embarkation (C = Cherbourg, Q = Queenstown, S = Southampton) - **categorical feature**"
   ]
  },
  {
   "cell_type": "markdown",
   "id": "0376892b-326b-4f24-b831-17768b44472f",
   "metadata": {},
   "source": [
    "### Missing values in the data"
   ]
  },
  {
   "cell_type": "code",
   "execution_count": 541,
   "id": "9d777cbb-1cf5-4909-a494-6b873deb507a",
   "metadata": {},
   "outputs": [
    {
     "data": {
      "text/plain": [
       "PassengerId      0\n",
       "Survived         0\n",
       "Pclass           0\n",
       "Name             0\n",
       "Sex              0\n",
       "Age            177\n",
       "SibSp            0\n",
       "Parch            0\n",
       "Ticket           0\n",
       "Fare             0\n",
       "Cabin          687\n",
       "Embarked         2\n",
       "dtype: int64"
      ]
     },
     "execution_count": 541,
     "metadata": {},
     "output_type": "execute_result"
    }
   ],
   "source": [
    "train_data.isna().sum()"
   ]
  },
  {
   "cell_type": "code",
   "execution_count": 542,
   "id": "ca0988fa-7d7a-4287-8ce9-3c77ee0c0502",
   "metadata": {},
   "outputs": [
    {
     "data": {
      "text/plain": [
       "PassengerId      0\n",
       "Pclass           0\n",
       "Name             0\n",
       "Sex              0\n",
       "Age             86\n",
       "SibSp            0\n",
       "Parch            0\n",
       "Ticket           0\n",
       "Fare             1\n",
       "Cabin          327\n",
       "Embarked         0\n",
       "dtype: int64"
      ]
     },
     "execution_count": 542,
     "metadata": {},
     "output_type": "execute_result"
    }
   ],
   "source": [
    "test_data.isna().sum()"
   ]
  },
  {
   "cell_type": "code",
   "execution_count": 543,
   "id": "d8a0f009-4afc-427a-838c-d6949e98afdf",
   "metadata": {},
   "outputs": [
    {
     "data": {
      "text/plain": [
       "Age             263\n",
       "Cabin          1014\n",
       "Embarked          2\n",
       "Fare              1\n",
       "Name              0\n",
       "Parch             0\n",
       "PassengerId       0\n",
       "Pclass            0\n",
       "Sex               0\n",
       "SibSp             0\n",
       "Survived        418\n",
       "Ticket            0\n",
       "dtype: int64"
      ]
     },
     "execution_count": 543,
     "metadata": {},
     "output_type": "execute_result"
    }
   ],
   "source": [
    "all_data.isna().sum()"
   ]
  },
  {
   "cell_type": "markdown",
   "id": "783c2c06-1953-4d75-9a98-402bd51681d8",
   "metadata": {},
   "source": [
    "As we can see:\n",
    "\n",
    " - Cabin(687), Age(177), Embarked(2) features contain a number of null values for the training dataset.\n",
    "\n",
    " - Cabin(327), Age(86) are incomplete in case of test dataset.\n",
    "\n",
    "This needs to be corrected."
   ]
  },
  {
   "cell_type": "markdown",
   "id": "9f3819d8-4cf4-4a58-93ed-c816e48811ae",
   "metadata": {},
   "source": [
    "### Age. Missing data"
   ]
  },
  {
   "cell_type": "code",
   "execution_count": 544,
   "id": "ad1e1d58-6e66-4bb1-bc3a-a29c4406c7fa",
   "metadata": {},
   "outputs": [
    {
     "data": {
      "text/plain": [
       "Text(0, 0.5, 'Age')"
      ]
     },
     "execution_count": 544,
     "metadata": {},
     "output_type": "execute_result"
    },
    {
     "data": {
      "image/png": "[encoded data removed]",
      "text/plain": [
       "<Figure size 640x480 with 1 Axes>"
      ]
     },
     "metadata": {},
     "output_type": "display_data"
    }
   ],
   "source": [
    "ax1 = sns.boxplot(x='Survived', y='Age', data=train_data)\n",
    "ax1.set_xlabel('Survived', weight='bold', size=12)\n",
    "ax1.set_ylabel('Age', weight='bold', size=12)"
   ]
  },
  {
   "cell_type": "markdown",
   "id": "e29e7254-d7b3-4ad0-a1ce-9300ac2242c4",
   "metadata": {},
   "source": [
    "**The \"Age\" is an important feature** that can presumably correlate with the target variable. There is not much data, so it is important for us to understand the missing values - this is a systematic error or some random error.\n",
    "\n",
    "For example, the 1st class passengers (or women) were not asked about their age (because it was indecent), or accidentally missed. Understanding the reason for missing values will determine how to work with these missing data."
   ]
  },
  {
   "cell_type": "code",
   "execution_count": 545,
   "id": "acc8efe7-d593-49a5-a0d1-be00ebbf54f3",
   "metadata": {},
   "outputs": [
    {
     "data": {
      "text/html": [
       "<div>\n",
       "<style scoped>\n",
       "    .dataframe tbody tr th:only-of-type {\n",
       "        vertical-align: middle;\n",
       "    }\n",
       "\n",
       "    .dataframe tbody tr th {\n",
       "        vertical-align: top;\n",
       "    }\n",
       "\n",
       "    .dataframe thead th {\n",
       "        text-align: right;\n",
       "    }\n",
       "</style>\n",
       "<table border=\"1\" class=\"dataframe\">\n",
       "  <thead>\n",
       "    <tr style=\"text-align: right;\">\n",
       "      <th></th>\n",
       "      <th>PassengerId</th>\n",
       "      <th>Survived</th>\n",
       "      <th>Pclass</th>\n",
       "      <th>Age</th>\n",
       "      <th>SibSp</th>\n",
       "      <th>Parch</th>\n",
       "      <th>Fare</th>\n",
       "    </tr>\n",
       "    <tr>\n",
       "      <th>Age</th>\n",
       "      <th></th>\n",
       "      <th></th>\n",
       "      <th></th>\n",
       "      <th></th>\n",
       "      <th></th>\n",
       "      <th></th>\n",
       "      <th></th>\n",
       "    </tr>\n",
       "  </thead>\n",
       "  <tbody>\n",
       "    <tr>\n",
       "      <th>False</th>\n",
       "      <td>448.582633</td>\n",
       "      <td>0.406162</td>\n",
       "      <td>2.236695</td>\n",
       "      <td>29.699118</td>\n",
       "      <td>0.512605</td>\n",
       "      <td>0.431373</td>\n",
       "      <td>34.694514</td>\n",
       "    </tr>\n",
       "    <tr>\n",
       "      <th>True</th>\n",
       "      <td>435.581921</td>\n",
       "      <td>0.293785</td>\n",
       "      <td>2.598870</td>\n",
       "      <td>NaN</td>\n",
       "      <td>0.564972</td>\n",
       "      <td>0.180791</td>\n",
       "      <td>22.158567</td>\n",
       "    </tr>\n",
       "  </tbody>\n",
       "</table>\n",
       "</div>"
      ],
      "text/plain": [
       "       PassengerId  Survived    Pclass        Age     SibSp     Parch  \\\n",
       "Age                                                                     \n",
       "False   448.582633  0.406162  2.236695  29.699118  0.512605  0.431373   \n",
       "True    435.581921  0.293785  2.598870        NaN  0.564972  0.180791   \n",
       "\n",
       "            Fare  \n",
       "Age               \n",
       "False  34.694514  \n",
       "True   22.158567  "
      ]
     },
     "execution_count": 545,
     "metadata": {},
     "output_type": "execute_result"
    }
   ],
   "source": [
    "# missing age or not\n",
    "train_data.groupby(train_data['Age'].isnull()).mean()"
   ]
  },
  {
   "cell_type": "markdown",
   "id": "9dff104d-5fe6-42fd-b0cd-67e0a0ef6b27",
   "metadata": {},
   "source": [
    "Among the passengers whose age value was missing, there were survivors (about 30%) and dead (about 70%) - column `Survived`, True = 0.29.\n",
    "\n",
    "These passengers were in a lower class:\n",
    " - column `Pclass` - True = 2.59 (this is the average value of the class)\n",
    " - column `Fare` - True = 22.15 (this is the average value of the ticket price)\n",
    " \n",
    "For a more detailed analysis, we will create a new column `Age_NaN` (binary classifier). We use the where() method, where we prescribe the condition: - if there is no value in the `Age` column, then assign the value 0 in the `Age_NaN` column, if present, then 1."
   ]
  },
  {
   "cell_type": "code",
   "execution_count": 546,
   "id": "b5e29004-bc52-4483-b2e5-f0d8c4c6ce3f",
   "metadata": {},
   "outputs": [
    {
     "data": {
      "text/html": [
       "<div>\n",
       "<style scoped>\n",
       "    .dataframe tbody tr th:only-of-type {\n",
       "        vertical-align: middle;\n",
       "    }\n",
       "\n",
       "    .dataframe tbody tr th {\n",
       "        vertical-align: top;\n",
       "    }\n",
       "\n",
       "    .dataframe thead th {\n",
       "        text-align: right;\n",
       "    }\n",
       "</style>\n",
       "<table border=\"1\" class=\"dataframe\">\n",
       "  <thead>\n",
       "    <tr style=\"text-align: right;\">\n",
       "      <th></th>\n",
       "      <th>PassengerId</th>\n",
       "      <th>Survived</th>\n",
       "      <th>Pclass</th>\n",
       "      <th>Name</th>\n",
       "      <th>Sex</th>\n",
       "      <th>Age</th>\n",
       "      <th>SibSp</th>\n",
       "      <th>Parch</th>\n",
       "      <th>Ticket</th>\n",
       "      <th>Fare</th>\n",
       "      <th>Cabin</th>\n",
       "      <th>Embarked</th>\n",
       "      <th>Age_NaN</th>\n",
       "    </tr>\n",
       "  </thead>\n",
       "  <tbody>\n",
       "    <tr>\n",
       "      <th>0</th>\n",
       "      <td>1</td>\n",
       "      <td>0</td>\n",
       "      <td>3</td>\n",
       "      <td>Braund, Mr. Owen Harris</td>\n",
       "      <td>male</td>\n",
       "      <td>22.0</td>\n",
       "      <td>1</td>\n",
       "      <td>0</td>\n",
       "      <td>A/5 21171</td>\n",
       "      <td>7.2500</td>\n",
       "      <td>NaN</td>\n",
       "      <td>S</td>\n",
       "      <td>1</td>\n",
       "    </tr>\n",
       "    <tr>\n",
       "      <th>1</th>\n",
       "      <td>2</td>\n",
       "      <td>1</td>\n",
       "      <td>1</td>\n",
       "      <td>Cumings, Mrs. John Bradley (Florence Briggs Th...</td>\n",
       "      <td>female</td>\n",
       "      <td>38.0</td>\n",
       "      <td>1</td>\n",
       "      <td>0</td>\n",
       "      <td>PC 17599</td>\n",
       "      <td>71.2833</td>\n",
       "      <td>C85</td>\n",
       "      <td>C</td>\n",
       "      <td>1</td>\n",
       "    </tr>\n",
       "    <tr>\n",
       "      <th>2</th>\n",
       "      <td>3</td>\n",
       "      <td>1</td>\n",
       "      <td>3</td>\n",
       "      <td>Heikkinen, Miss. Laina</td>\n",
       "      <td>female</td>\n",
       "      <td>26.0</td>\n",
       "      <td>0</td>\n",
       "      <td>0</td>\n",
       "      <td>STON/O2. 3101282</td>\n",
       "      <td>7.9250</td>\n",
       "      <td>NaN</td>\n",
       "      <td>S</td>\n",
       "      <td>1</td>\n",
       "    </tr>\n",
       "  </tbody>\n",
       "</table>\n",
       "</div>"
      ],
      "text/plain": [
       "   PassengerId  Survived  Pclass  \\\n",
       "0            1         0       3   \n",
       "1            2         1       1   \n",
       "2            3         1       3   \n",
       "\n",
       "                                                Name     Sex   Age  SibSp  \\\n",
       "0                            Braund, Mr. Owen Harris    male  22.0      1   \n",
       "1  Cumings, Mrs. John Bradley (Florence Briggs Th...  female  38.0      1   \n",
       "2                             Heikkinen, Miss. Laina  female  26.0      0   \n",
       "\n",
       "   Parch            Ticket     Fare Cabin Embarked  Age_NaN  \n",
       "0      0         A/5 21171   7.2500   NaN        S        1  \n",
       "1      0          PC 17599  71.2833   C85        C        1  \n",
       "2      0  STON/O2. 3101282   7.9250   NaN        S        1  "
      ]
     },
     "execution_count": 546,
     "metadata": {},
     "output_type": "execute_result"
    }
   ],
   "source": [
    "train_data['Age_NaN'] = np.where(train_data['Age'].isnull(), 0,1)\n",
    "train_data.head(3)"
   ]
  },
  {
   "cell_type": "code",
   "execution_count": 547,
   "id": "249feff1-fdb9-4022-b889-d77a9589f09e",
   "metadata": {},
   "outputs": [
    {
     "data": {
      "text/html": [
       "<div>\n",
       "<style scoped>\n",
       "    .dataframe tbody tr th:only-of-type {\n",
       "        vertical-align: middle;\n",
       "    }\n",
       "\n",
       "    .dataframe tbody tr th {\n",
       "        vertical-align: top;\n",
       "    }\n",
       "\n",
       "    .dataframe thead th {\n",
       "        text-align: right;\n",
       "    }\n",
       "</style>\n",
       "<table border=\"1\" class=\"dataframe\">\n",
       "  <thead>\n",
       "    <tr style=\"text-align: right;\">\n",
       "      <th>Age_NaN</th>\n",
       "      <th>0</th>\n",
       "      <th>1</th>\n",
       "    </tr>\n",
       "    <tr>\n",
       "      <th>Pclass</th>\n",
       "      <th></th>\n",
       "      <th></th>\n",
       "    </tr>\n",
       "  </thead>\n",
       "  <tbody>\n",
       "    <tr>\n",
       "      <th>1</th>\n",
       "      <td>30</td>\n",
       "      <td>186</td>\n",
       "    </tr>\n",
       "    <tr>\n",
       "      <th>2</th>\n",
       "      <td>11</td>\n",
       "      <td>173</td>\n",
       "    </tr>\n",
       "    <tr>\n",
       "      <th>3</th>\n",
       "      <td>136</td>\n",
       "      <td>355</td>\n",
       "    </tr>\n",
       "  </tbody>\n",
       "</table>\n",
       "</div>"
      ],
      "text/plain": [
       "Age_NaN    0    1\n",
       "Pclass           \n",
       "1         30  186\n",
       "2         11  173\n",
       "3        136  355"
      ]
     },
     "execution_count": 547,
     "metadata": {},
     "output_type": "execute_result"
    }
   ],
   "source": [
    "# missing age value depending on class\n",
    "pd.crosstab(train_data['Pclass'], train_data['Age_NaN'])"
   ]
  },
  {
   "cell_type": "code",
   "execution_count": 548,
   "id": "0a18b910-331a-47b0-8be9-4ca907c43c27",
   "metadata": {},
   "outputs": [
    {
     "data": {
      "text/html": [
       "<div>\n",
       "<style scoped>\n",
       "    .dataframe tbody tr th:only-of-type {\n",
       "        vertical-align: middle;\n",
       "    }\n",
       "\n",
       "    .dataframe tbody tr th {\n",
       "        vertical-align: top;\n",
       "    }\n",
       "\n",
       "    .dataframe thead th {\n",
       "        text-align: right;\n",
       "    }\n",
       "</style>\n",
       "<table border=\"1\" class=\"dataframe\">\n",
       "  <thead>\n",
       "    <tr style=\"text-align: right;\">\n",
       "      <th>Age_NaN</th>\n",
       "      <th>0</th>\n",
       "      <th>1</th>\n",
       "    </tr>\n",
       "    <tr>\n",
       "      <th>Sex</th>\n",
       "      <th></th>\n",
       "      <th></th>\n",
       "    </tr>\n",
       "  </thead>\n",
       "  <tbody>\n",
       "    <tr>\n",
       "      <th>female</th>\n",
       "      <td>53</td>\n",
       "      <td>261</td>\n",
       "    </tr>\n",
       "    <tr>\n",
       "      <th>male</th>\n",
       "      <td>124</td>\n",
       "      <td>453</td>\n",
       "    </tr>\n",
       "  </tbody>\n",
       "</table>\n",
       "</div>"
      ],
      "text/plain": [
       "Age_NaN    0    1\n",
       "Sex              \n",
       "female    53  261\n",
       "male     124  453"
      ]
     },
     "execution_count": 548,
     "metadata": {},
     "output_type": "execute_result"
    }
   ],
   "source": [
    "# missing age value depending on sex\n",
    "pd.crosstab(train_data['Sex'], train_data['Age_NaN'])"
   ]
  },
  {
   "cell_type": "markdown",
   "id": "670f7fc1-4aca-424c-9791-b7ede845fda8",
   "metadata": {},
   "source": [
    "**Conclusion**: among the passengers who had no age value, there were survivors (about 30%) and dead (about 70%), passengers were from different classes (there were significantly more from class 3), there were men and women among the passengers (there were significantly more men), then when interviewing survivors and when the examination of the bodies of the dead could accidentally miss the age of the passenger.\n",
    "\n",
    "**Solution**: To replace these NaN values, we can assign them the mean age of the dataset.\n",
    "\n",
    "But the problem is, there were many people with many different ages. We just can't assign a 4 year kid with the mean age that is 29 years. \n",
    "\n",
    "But we can check the Name feature. Looking upon the feature, we can see that the names have a salutation like Mr or Mrs. Thus we can assign the mean values of Mr and Mrs to the respective groups."
   ]
  },
  {
   "cell_type": "code",
   "execution_count": 549,
   "id": "fa4dacd9-cba5-42cc-93cb-34d9e8210952",
   "metadata": {},
   "outputs": [
    {
     "data": {
      "text/plain": [
       "0                                Braund, Mr. Owen Harris\n",
       "1      Cumings, Mrs. John Bradley (Florence Briggs Th...\n",
       "2                                 Heikkinen, Miss. Laina\n",
       "3           Futrelle, Mrs. Jacques Heath (Lily May Peel)\n",
       "4                               Allen, Mr. William Henry\n",
       "                             ...                        \n",
       "886                                Montvila, Rev. Juozas\n",
       "887                         Graham, Miss. Margaret Edith\n",
       "888             Johnston, Miss. Catherine Helen \"Carrie\"\n",
       "889                                Behr, Mr. Karl Howell\n",
       "890                                  Dooley, Mr. Patrick\n",
       "Name: Name, Length: 891, dtype: object"
      ]
     },
     "execution_count": 549,
     "metadata": {},
     "output_type": "execute_result"
    }
   ],
   "source": [
    "train_data['Name']"
   ]
  },
  {
   "cell_type": "code",
   "execution_count": 550,
   "id": "81f2cb82-867b-41c4-9c10-cb09bcdb5bd5",
   "metadata": {},
   "outputs": [
    {
     "data": {
      "text/plain": [
       "Mr          757\n",
       "Miss        260\n",
       "Mrs         197\n",
       "Master       61\n",
       "Rev           8\n",
       "Dr            8\n",
       "Col           4\n",
       "Mlle          2\n",
       "Major         2\n",
       "Ms            2\n",
       "Lady          1\n",
       "Sir           1\n",
       "Mme           1\n",
       "Don           1\n",
       "Capt          1\n",
       "Countess      1\n",
       "Jonkheer      1\n",
       "Dona          1\n",
       "Name: Initial, dtype: int64"
      ]
     },
     "execution_count": 550,
     "metadata": {},
     "output_type": "execute_result"
    }
   ],
   "source": [
    "# extract the Salutations\n",
    "all_data['Initial']=0\n",
    "for i in train_data:\n",
    "    all_data['Initial']=all_data.Name.str.extract('([A-Za-z]+)\\.')\n",
    "\n",
    "all_data['Initial'].value_counts()"
   ]
  },
  {
   "cell_type": "markdown",
   "id": "ded97ae0-195b-4f91-a92c-d412cd2c492f",
   "metadata": {},
   "source": [
    "There are some misspelled Initials like Miller or Me that stand for Miss. I will replace them with Miss and same thing for other values."
   ]
  },
  {
   "cell_type": "code",
   "execution_count": 551,
   "id": "0b2ad956-a086-4255-b233-2e0add64ebf4",
   "metadata": {},
   "outputs": [
    {
     "data": {
      "text/plain": [
       "Initial\n",
       "Master     5.482642\n",
       "Miss      21.834533\n",
       "Mr        32.545531\n",
       "Mrs       37.046243\n",
       "Other     44.923077\n",
       "Name: Age, dtype: float64"
      ]
     },
     "execution_count": 551,
     "metadata": {},
     "output_type": "execute_result"
    }
   ],
   "source": [
    "all_data['Initial'].replace(['Mlle','Mme','Ms'], 'Miss',inplace=True)\n",
    "all_data['Initial'].replace(['Dr','Major','Capt','Sir','Don'], 'Mr',inplace=True)\n",
    "all_data['Initial'].replace(['Lady','Countess', 'Dona'], 'Mrs',inplace=True)\n",
    "all_data['Initial'].replace(['Jonkheer','Col','Rev'], 'Other',inplace=True)\n",
    "\n",
    "all_data.groupby('Initial')['Age'].mean()"
   ]
  },
  {
   "cell_type": "code",
   "execution_count": 552,
   "id": "eee0045b-7e3c-4986-9e69-0f44653907aa",
   "metadata": {},
   "outputs": [],
   "source": [
    "all_data.loc[(all_data.Age.isnull())&(all_data.Initial=='Mr'),'Age']=33\n",
    "all_data.loc[(all_data.Age.isnull())&(all_data.Initial=='Mrs'),'Age']=37\n",
    "all_data.loc[(all_data.Age.isnull())&(all_data.Initial=='Master'),'Age']=5\n",
    "all_data.loc[(all_data.Age.isnull())&(all_data.Initial=='Miss'),'Age']=22\n",
    "all_data.loc[(all_data.Age.isnull())&(all_data.Initial=='Other'),'Age']=45"
   ]
  },
  {
   "cell_type": "code",
   "execution_count": 553,
   "id": "ff2f82d6-7076-4aca-b2e8-392522972e44",
   "metadata": {},
   "outputs": [
    {
     "data": {
      "text/plain": [
       "Age               0\n",
       "Cabin          1014\n",
       "Embarked          2\n",
       "Fare              1\n",
       "Name              0\n",
       "Parch             0\n",
       "PassengerId       0\n",
       "Pclass            0\n",
       "Sex               0\n",
       "SibSp             0\n",
       "Survived        418\n",
       "Ticket            0\n",
       "Initial           0\n",
       "dtype: int64"
      ]
     },
     "execution_count": 553,
     "metadata": {},
     "output_type": "execute_result"
    }
   ],
   "source": [
    "all_data.isna().sum()"
   ]
  },
  {
   "cell_type": "markdown",
   "id": "4a5cd073-db9a-49f1-91ff-0b4d41581d07",
   "metadata": {},
   "source": [
    "### Cabin. Missing data"
   ]
  },
  {
   "cell_type": "markdown",
   "id": "8c6b812e-990f-48bc-a7ce-e79422fd9caa",
   "metadata": {},
   "source": [
    "687 values in train_data and 327 values in test_data are not specified in the `Cabin` column. Since there are a lot of missing values, we can completely delete the `Cabin` column."
   ]
  },
  {
   "cell_type": "code",
   "execution_count": 554,
   "id": "0766d52f-7dc2-4310-ab05-a714badd1acc",
   "metadata": {},
   "outputs": [
    {
     "data": {
      "text/html": [
       "<div>\n",
       "<style scoped>\n",
       "    .dataframe tbody tr th:only-of-type {\n",
       "        vertical-align: middle;\n",
       "    }\n",
       "\n",
       "    .dataframe tbody tr th {\n",
       "        vertical-align: top;\n",
       "    }\n",
       "\n",
       "    .dataframe thead th {\n",
       "        text-align: right;\n",
       "    }\n",
       "</style>\n",
       "<table border=\"1\" class=\"dataframe\">\n",
       "  <thead>\n",
       "    <tr style=\"text-align: right;\">\n",
       "      <th></th>\n",
       "      <th>Age</th>\n",
       "      <th>Embarked</th>\n",
       "      <th>Fare</th>\n",
       "      <th>Name</th>\n",
       "      <th>Parch</th>\n",
       "      <th>PassengerId</th>\n",
       "      <th>Pclass</th>\n",
       "      <th>Sex</th>\n",
       "      <th>SibSp</th>\n",
       "      <th>Survived</th>\n",
       "      <th>Ticket</th>\n",
       "      <th>Initial</th>\n",
       "    </tr>\n",
       "  </thead>\n",
       "  <tbody>\n",
       "    <tr>\n",
       "      <th>0</th>\n",
       "      <td>22.0</td>\n",
       "      <td>S</td>\n",
       "      <td>7.2500</td>\n",
       "      <td>Braund, Mr. Owen Harris</td>\n",
       "      <td>0</td>\n",
       "      <td>1</td>\n",
       "      <td>3</td>\n",
       "      <td>male</td>\n",
       "      <td>1</td>\n",
       "      <td>0.0</td>\n",
       "      <td>A/5 21171</td>\n",
       "      <td>Mr</td>\n",
       "    </tr>\n",
       "    <tr>\n",
       "      <th>1</th>\n",
       "      <td>38.0</td>\n",
       "      <td>C</td>\n",
       "      <td>71.2833</td>\n",
       "      <td>Cumings, Mrs. John Bradley (Florence Briggs Th...</td>\n",
       "      <td>0</td>\n",
       "      <td>2</td>\n",
       "      <td>1</td>\n",
       "      <td>female</td>\n",
       "      <td>1</td>\n",
       "      <td>1.0</td>\n",
       "      <td>PC 17599</td>\n",
       "      <td>Mrs</td>\n",
       "    </tr>\n",
       "    <tr>\n",
       "      <th>2</th>\n",
       "      <td>26.0</td>\n",
       "      <td>S</td>\n",
       "      <td>7.9250</td>\n",
       "      <td>Heikkinen, Miss. Laina</td>\n",
       "      <td>0</td>\n",
       "      <td>3</td>\n",
       "      <td>3</td>\n",
       "      <td>female</td>\n",
       "      <td>0</td>\n",
       "      <td>1.0</td>\n",
       "      <td>STON/O2. 3101282</td>\n",
       "      <td>Miss</td>\n",
       "    </tr>\n",
       "  </tbody>\n",
       "</table>\n",
       "</div>"
      ],
      "text/plain": [
       "    Age Embarked     Fare                                               Name  \\\n",
       "0  22.0        S   7.2500                            Braund, Mr. Owen Harris   \n",
       "1  38.0        C  71.2833  Cumings, Mrs. John Bradley (Florence Briggs Th...   \n",
       "2  26.0        S   7.9250                             Heikkinen, Miss. Laina   \n",
       "\n",
       "   Parch  PassengerId  Pclass     Sex  SibSp  Survived            Ticket  \\\n",
       "0      0            1       3    male      1       0.0         A/5 21171   \n",
       "1      0            2       1  female      1       1.0          PC 17599   \n",
       "2      0            3       3  female      0       1.0  STON/O2. 3101282   \n",
       "\n",
       "  Initial  \n",
       "0      Mr  \n",
       "1     Mrs  \n",
       "2    Miss  "
      ]
     },
     "execution_count": 554,
     "metadata": {},
     "output_type": "execute_result"
    }
   ],
   "source": [
    "all_data.drop(['Cabin'], axis = 1, inplace = True)\n",
    "all_data.head(3)"
   ]
  },
  {
   "cell_type": "markdown",
   "id": "5217cff0-85f5-4230-984c-181399c1b4c3",
   "metadata": {},
   "source": [
    "### Embarked. Missing data"
   ]
  },
  {
   "cell_type": "markdown",
   "id": "1d811cf6-4a3c-4fe3-842c-98ca4e70c1eb",
   "metadata": {},
   "source": [
    "Two values are not specified in the `Embarked`column. This is a categorical feature.\n",
    "\n",
    "**Solution**: Replace the missing values by frequency. Replace the missing value with the value that is most often found in a particular column."
   ]
  },
  {
   "cell_type": "code",
   "execution_count": 555,
   "id": "36f72f08-d079-4579-ac66-bae62b60c772",
   "metadata": {},
   "outputs": [
    {
     "data": {
      "text/plain": [
       "S    914\n",
       "C    270\n",
       "Q    123\n",
       "Name: Embarked, dtype: int64"
      ]
     },
     "execution_count": 555,
     "metadata": {},
     "output_type": "execute_result"
    }
   ],
   "source": [
    "all_data['Embarked'].value_counts()"
   ]
  },
  {
   "cell_type": "code",
   "execution_count": 556,
   "id": "7c64d65d-7fcf-4401-b6cd-967977b111e2",
   "metadata": {},
   "outputs": [],
   "source": [
    "# replace the missing 'Embarked' values by the most frequent - S\n",
    "all_data['Embarked'].replace(np.nan, 'S', inplace = True)\n"
   ]
  },
  {
   "cell_type": "markdown",
   "id": "994292ed-a9f0-414f-8e78-6b81ed543baa",
   "metadata": {},
   "source": [
    "### Fare. Missing data"
   ]
  },
  {
   "cell_type": "markdown",
   "id": "a0b0d2a6-7eb2-4391-ac7e-a0a7b1ae8a38",
   "metadata": {},
   "source": [
    "There is only one passenger with missing Fare value. We can assume that Fare is related to family size (Parch and SibSp) and Pclass features. Median Fare value of a male with a third class ticket and no family is a logical choice to fill the missing value."
   ]
  },
  {
   "cell_type": "code",
   "execution_count": 557,
   "id": "fa40c5ec-6ffb-404d-95f5-f2c7a1c915b5",
   "metadata": {},
   "outputs": [
    {
     "data": {
      "text/html": [
       "<div>\n",
       "<style scoped>\n",
       "    .dataframe tbody tr th:only-of-type {\n",
       "        vertical-align: middle;\n",
       "    }\n",
       "\n",
       "    .dataframe tbody tr th {\n",
       "        vertical-align: top;\n",
       "    }\n",
       "\n",
       "    .dataframe thead th {\n",
       "        text-align: right;\n",
       "    }\n",
       "</style>\n",
       "<table border=\"1\" class=\"dataframe\">\n",
       "  <thead>\n",
       "    <tr style=\"text-align: right;\">\n",
       "      <th></th>\n",
       "      <th>Age</th>\n",
       "      <th>Embarked</th>\n",
       "      <th>Fare</th>\n",
       "      <th>Name</th>\n",
       "      <th>Parch</th>\n",
       "      <th>PassengerId</th>\n",
       "      <th>Pclass</th>\n",
       "      <th>Sex</th>\n",
       "      <th>SibSp</th>\n",
       "      <th>Survived</th>\n",
       "      <th>Ticket</th>\n",
       "      <th>Initial</th>\n",
       "    </tr>\n",
       "  </thead>\n",
       "  <tbody>\n",
       "    <tr>\n",
       "      <th>1043</th>\n",
       "      <td>60.5</td>\n",
       "      <td>S</td>\n",
       "      <td>NaN</td>\n",
       "      <td>Storey, Mr. Thomas</td>\n",
       "      <td>0</td>\n",
       "      <td>1044</td>\n",
       "      <td>3</td>\n",
       "      <td>male</td>\n",
       "      <td>0</td>\n",
       "      <td>NaN</td>\n",
       "      <td>3701</td>\n",
       "      <td>Mr</td>\n",
       "    </tr>\n",
       "  </tbody>\n",
       "</table>\n",
       "</div>"
      ],
      "text/plain": [
       "       Age Embarked  Fare                Name  Parch  PassengerId  Pclass  \\\n",
       "1043  60.5        S   NaN  Storey, Mr. Thomas      0         1044       3   \n",
       "\n",
       "       Sex  SibSp  Survived Ticket Initial  \n",
       "1043  male      0       NaN   3701      Mr  "
      ]
     },
     "execution_count": 557,
     "metadata": {},
     "output_type": "execute_result"
    }
   ],
   "source": [
    "all_data[all_data['Fare'].isnull()]"
   ]
  },
  {
   "cell_type": "code",
   "execution_count": 558,
   "id": "c1ac90ab-3b2f-4d34-a0fa-d8a8d1dbb44e",
   "metadata": {},
   "outputs": [],
   "source": [
    "null_fare = all_data.groupby(['Pclass', 'Parch', 'SibSp']).Fare.median()[3][0][0]\n",
    "all_data['Fare'] = all_data['Fare'].fillna(null_fare)"
   ]
  },
  {
   "cell_type": "code",
   "execution_count": 559,
   "id": "51bcb064-6b3e-4f16-9cf8-ebac5d01eece",
   "metadata": {},
   "outputs": [
    {
     "data": {
      "text/plain": [
       "Age              0\n",
       "Embarked         0\n",
       "Fare             0\n",
       "Name             0\n",
       "Parch            0\n",
       "PassengerId      0\n",
       "Pclass           0\n",
       "Sex              0\n",
       "SibSp            0\n",
       "Survived       418\n",
       "Ticket           0\n",
       "Initial          0\n",
       "dtype: int64"
      ]
     },
     "execution_count": 559,
     "metadata": {},
     "output_type": "execute_result"
    }
   ],
   "source": [
    "all_data.isna().sum()"
   ]
  },
  {
   "cell_type": "code",
   "execution_count": 560,
   "id": "9d94623e-a0c7-4f4a-9a1e-ccfb4f8df6c4",
   "metadata": {},
   "outputs": [],
   "source": [
    "def divide_df(all_data):\n",
    "    # Returns divided dfs of training and test set\n",
    "    return all_data.loc[:890], all_data.loc[891:].drop(['Survived'], axis=1)\n",
    "    \n",
    "train_data, test_data = divide_df(all_data)"
   ]
  },
  {
   "cell_type": "code",
   "execution_count": 561,
   "id": "a87da0b3-1365-4efc-a85b-a1c59e260b99",
   "metadata": {},
   "outputs": [
    {
     "data": {
      "text/plain": [
       "Age            0\n",
       "Embarked       0\n",
       "Fare           0\n",
       "Name           0\n",
       "Parch          0\n",
       "PassengerId    0\n",
       "Pclass         0\n",
       "Sex            0\n",
       "SibSp          0\n",
       "Survived       0\n",
       "Ticket         0\n",
       "Initial        0\n",
       "dtype: int64"
      ]
     },
     "execution_count": 561,
     "metadata": {},
     "output_type": "execute_result"
    }
   ],
   "source": [
    "train_data.isna().sum()"
   ]
  },
  {
   "cell_type": "code",
   "execution_count": 562,
   "id": "42c9ac94-2c86-4648-ae82-d6a32f26bfa2",
   "metadata": {},
   "outputs": [
    {
     "data": {
      "text/plain": [
       "Age            0\n",
       "Embarked       0\n",
       "Fare           0\n",
       "Name           0\n",
       "Parch          0\n",
       "PassengerId    0\n",
       "Pclass         0\n",
       "Sex            0\n",
       "SibSp          0\n",
       "Ticket         0\n",
       "Initial        0\n",
       "dtype: int64"
      ]
     },
     "execution_count": 562,
     "metadata": {},
     "output_type": "execute_result"
    }
   ],
   "source": [
    "test_data.isna().sum()"
   ]
  },
  {
   "cell_type": "markdown",
   "id": "a375b0d7-9e25-4205-8cb5-c479e5d270ca",
   "metadata": {},
   "source": [
    "### Analysis of features correlating with the target variable"
   ]
  },
  {
   "cell_type": "markdown",
   "id": "adb13fe9-1a44-4bcd-948d-fb210573e42c",
   "metadata": {},
   "source": [
    "### Sex"
   ]
  },
  {
   "cell_type": "code",
   "execution_count": 230,
   "id": "3c55ae3c-4d37-4a54-807f-b80013b9ee90",
   "metadata": {},
   "outputs": [
    {
     "data": {
      "text/html": [
       "<div>\n",
       "<style scoped>\n",
       "    .dataframe tbody tr th:only-of-type {\n",
       "        vertical-align: middle;\n",
       "    }\n",
       "\n",
       "    .dataframe tbody tr th {\n",
       "        vertical-align: top;\n",
       "    }\n",
       "\n",
       "    .dataframe thead th {\n",
       "        text-align: right;\n",
       "    }\n",
       "</style>\n",
       "<table border=\"1\" class=\"dataframe\">\n",
       "  <thead>\n",
       "    <tr style=\"text-align: right;\">\n",
       "      <th></th>\n",
       "      <th>Sex</th>\n",
       "      <th>Survived</th>\n",
       "    </tr>\n",
       "  </thead>\n",
       "  <tbody>\n",
       "    <tr>\n",
       "      <th>0</th>\n",
       "      <td>female</td>\n",
       "      <td>0.742038</td>\n",
       "    </tr>\n",
       "    <tr>\n",
       "      <th>1</th>\n",
       "      <td>male</td>\n",
       "      <td>0.188908</td>\n",
       "    </tr>\n",
       "  </tbody>\n",
       "</table>\n",
       "</div>"
      ],
      "text/plain": [
       "      Sex  Survived\n",
       "0  female  0.742038\n",
       "1    male  0.188908"
      ]
     },
     "execution_count": 230,
     "metadata": {},
     "output_type": "execute_result"
    }
   ],
   "source": [
    "train_data[[\"Sex\", \"Survived\"]].groupby(['Sex'], as_index=False).mean().sort_values(by='Survived', ascending=False)"
   ]
  },
  {
   "cell_type": "code",
   "execution_count": 231,
   "id": "64a6b2e2-2efc-42b9-a50f-945fafad09ee",
   "metadata": {},
   "outputs": [
    {
     "data": {
      "image/png": "[encoded data removed]",
      "text/plain": [
       "<Figure size 569.375x500 with 1 Axes>"
      ]
     },
     "metadata": {},
     "output_type": "display_data"
    }
   ],
   "source": [
    "sns.catplot(data=train_data, x='Sex', kind='count', hue='Survived',palette='deep')\n",
    "plt.title(\"The dependence of survival on sex\")\n",
    "plt.show()"
   ]
  },
  {
   "cell_type": "markdown",
   "id": "58849de2-52c6-4a26-b939-b86f135844f4",
   "metadata": {},
   "source": [
    "**Conclusion**: Women (Sex=female) were more likely to have survived."
   ]
  },
  {
   "cell_type": "markdown",
   "id": "f9ddcde4-ede1-406d-bbf9-1901613d3472",
   "metadata": {},
   "source": [
    "### Pclass"
   ]
  },
  {
   "cell_type": "code",
   "execution_count": 232,
   "id": "34b4aa76-e262-4a43-96a9-328a6a1750c2",
   "metadata": {},
   "outputs": [
    {
     "data": {
      "text/html": [
       "<div>\n",
       "<style scoped>\n",
       "    .dataframe tbody tr th:only-of-type {\n",
       "        vertical-align: middle;\n",
       "    }\n",
       "\n",
       "    .dataframe tbody tr th {\n",
       "        vertical-align: top;\n",
       "    }\n",
       "\n",
       "    .dataframe thead th {\n",
       "        text-align: right;\n",
       "    }\n",
       "</style>\n",
       "<table border=\"1\" class=\"dataframe\">\n",
       "  <thead>\n",
       "    <tr style=\"text-align: right;\">\n",
       "      <th></th>\n",
       "      <th>Pclass</th>\n",
       "      <th>Survived</th>\n",
       "    </tr>\n",
       "  </thead>\n",
       "  <tbody>\n",
       "    <tr>\n",
       "      <th>0</th>\n",
       "      <td>1</td>\n",
       "      <td>0.629630</td>\n",
       "    </tr>\n",
       "    <tr>\n",
       "      <th>1</th>\n",
       "      <td>2</td>\n",
       "      <td>0.472826</td>\n",
       "    </tr>\n",
       "    <tr>\n",
       "      <th>2</th>\n",
       "      <td>3</td>\n",
       "      <td>0.242363</td>\n",
       "    </tr>\n",
       "  </tbody>\n",
       "</table>\n",
       "</div>"
      ],
      "text/plain": [
       "   Pclass  Survived\n",
       "0       1  0.629630\n",
       "1       2  0.472826\n",
       "2       3  0.242363"
      ]
     },
     "execution_count": 232,
     "metadata": {},
     "output_type": "execute_result"
    }
   ],
   "source": [
    "train_data[['Pclass', 'Survived']].groupby(['Pclass'], as_index=False).mean().sort_values(by='Survived', ascending=False)"
   ]
  },
  {
   "cell_type": "code",
   "execution_count": 233,
   "id": "8de12168-309d-41a6-a31f-e875d670c013",
   "metadata": {},
   "outputs": [
    {
     "data": {
      "image/png": "[encoded data removed]",
      "text/plain": [
       "<Figure size 569.375x500 with 1 Axes>"
      ]
     },
     "metadata": {},
     "output_type": "display_data"
    }
   ],
   "source": [
    "sns.catplot(data=train_data, x='Pclass', kind='count', hue='Survived',palette='deep')\n",
    "plt.title(\"The dependence of survival on Pclass\")\n",
    "plt.show()"
   ]
  },
  {
   "cell_type": "markdown",
   "id": "29ffc427-f35a-4330-a919-b004db6aa215",
   "metadata": {},
   "source": [
    "**Conclusion**: The upper-class passengers (Pclass=1) were more likely to have survived."
   ]
  },
  {
   "cell_type": "code",
   "execution_count": 234,
   "id": "c7088f8c-d594-4781-a041-b207fb8bf340",
   "metadata": {},
   "outputs": [
    {
     "data": {
      "text/html": [
       "<style type=\"text/css\">\n",
       "#T_7d9d2_row0_col0, #T_7d9d2_row0_col1, #T_7d9d2_row0_col3, #T_7d9d2_row3_col2 {\n",
       "  background-color: #ffffcc;\n",
       "  color: #000000;\n",
       "}\n",
       "#T_7d9d2_row0_col2, #T_7d9d2_row1_col2 {\n",
       "  background-color: #fff7b9;\n",
       "  color: #000000;\n",
       "}\n",
       "#T_7d9d2_row1_col0 {\n",
       "  background-color: #fea747;\n",
       "  color: #000000;\n",
       "}\n",
       "#T_7d9d2_row1_col1 {\n",
       "  background-color: #feb651;\n",
       "  color: #000000;\n",
       "}\n",
       "#T_7d9d2_row1_col3 {\n",
       "  background-color: #fee38b;\n",
       "  color: #000000;\n",
       "}\n",
       "#T_7d9d2_row2_col0 {\n",
       "  background-color: #febb56;\n",
       "  color: #000000;\n",
       "}\n",
       "#T_7d9d2_row2_col1, #T_7d9d2_row2_col3 {\n",
       "  background-color: #fd933f;\n",
       "  color: #000000;\n",
       "}\n",
       "#T_7d9d2_row2_col2 {\n",
       "  background-color: #fc6a32;\n",
       "  color: #f1f1f1;\n",
       "}\n",
       "#T_7d9d2_row3_col0 {\n",
       "  background-color: #fee288;\n",
       "  color: #000000;\n",
       "}\n",
       "#T_7d9d2_row3_col1 {\n",
       "  background-color: #fff7b7;\n",
       "  color: #000000;\n",
       "}\n",
       "#T_7d9d2_row3_col3 {\n",
       "  background-color: #fffac1;\n",
       "  color: #000000;\n",
       "}\n",
       "#T_7d9d2_row4_col0, #T_7d9d2_row4_col1, #T_7d9d2_row4_col2, #T_7d9d2_row4_col3 {\n",
       "  background-color: #800026;\n",
       "  color: #f1f1f1;\n",
       "}\n",
       "</style>\n",
       "<table id=\"T_7d9d2\">\n",
       "  <thead>\n",
       "    <tr>\n",
       "      <th class=\"blank\" >&nbsp;</th>\n",
       "      <th class=\"index_name level0\" >Pclass</th>\n",
       "      <th id=\"T_7d9d2_level0_col0\" class=\"col_heading level0 col0\" >1</th>\n",
       "      <th id=\"T_7d9d2_level0_col1\" class=\"col_heading level0 col1\" >2</th>\n",
       "      <th id=\"T_7d9d2_level0_col2\" class=\"col_heading level0 col2\" >3</th>\n",
       "      <th id=\"T_7d9d2_level0_col3\" class=\"col_heading level0 col3\" >All</th>\n",
       "    </tr>\n",
       "    <tr>\n",
       "      <th class=\"index_name level0\" >Sex</th>\n",
       "      <th class=\"index_name level1\" >Survived</th>\n",
       "      <th class=\"blank col0\" >&nbsp;</th>\n",
       "      <th class=\"blank col1\" >&nbsp;</th>\n",
       "      <th class=\"blank col2\" >&nbsp;</th>\n",
       "      <th class=\"blank col3\" >&nbsp;</th>\n",
       "    </tr>\n",
       "  </thead>\n",
       "  <tbody>\n",
       "    <tr>\n",
       "      <th id=\"T_7d9d2_level0_row0\" class=\"row_heading level0 row0\" rowspan=\"2\">female</th>\n",
       "      <th id=\"T_7d9d2_level1_row0\" class=\"row_heading level1 row0\" >0.000000</th>\n",
       "      <td id=\"T_7d9d2_row0_col0\" class=\"data row0 col0\" >3</td>\n",
       "      <td id=\"T_7d9d2_row0_col1\" class=\"data row0 col1\" >6</td>\n",
       "      <td id=\"T_7d9d2_row0_col2\" class=\"data row0 col2\" >72</td>\n",
       "      <td id=\"T_7d9d2_row0_col3\" class=\"data row0 col3\" >81</td>\n",
       "    </tr>\n",
       "    <tr>\n",
       "      <th id=\"T_7d9d2_level1_row1\" class=\"row_heading level1 row1\" >1.000000</th>\n",
       "      <td id=\"T_7d9d2_row1_col0\" class=\"data row1 col0\" >91</td>\n",
       "      <td id=\"T_7d9d2_row1_col1\" class=\"data row1 col1\" >70</td>\n",
       "      <td id=\"T_7d9d2_row1_col2\" class=\"data row1 col2\" >72</td>\n",
       "      <td id=\"T_7d9d2_row1_col3\" class=\"data row1 col3\" >233</td>\n",
       "    </tr>\n",
       "    <tr>\n",
       "      <th id=\"T_7d9d2_level0_row2\" class=\"row_heading level0 row2\" rowspan=\"2\">male</th>\n",
       "      <th id=\"T_7d9d2_level1_row2\" class=\"row_heading level1 row2\" >0.000000</th>\n",
       "      <td id=\"T_7d9d2_row2_col0\" class=\"data row2 col0\" >77</td>\n",
       "      <td id=\"T_7d9d2_row2_col1\" class=\"data row2 col1\" >91</td>\n",
       "      <td id=\"T_7d9d2_row2_col2\" class=\"data row2 col2\" >300</td>\n",
       "      <td id=\"T_7d9d2_row2_col3\" class=\"data row2 col3\" >468</td>\n",
       "    </tr>\n",
       "    <tr>\n",
       "      <th id=\"T_7d9d2_level1_row3\" class=\"row_heading level1 row3\" >1.000000</th>\n",
       "      <td id=\"T_7d9d2_row3_col0\" class=\"data row3 col0\" >45</td>\n",
       "      <td id=\"T_7d9d2_row3_col1\" class=\"data row3 col1\" >17</td>\n",
       "      <td id=\"T_7d9d2_row3_col2\" class=\"data row3 col2\" >47</td>\n",
       "      <td id=\"T_7d9d2_row3_col3\" class=\"data row3 col3\" >109</td>\n",
       "    </tr>\n",
       "    <tr>\n",
       "      <th id=\"T_7d9d2_level0_row4\" class=\"row_heading level0 row4\" >All</th>\n",
       "      <th id=\"T_7d9d2_level1_row4\" class=\"row_heading level1 row4\" ></th>\n",
       "      <td id=\"T_7d9d2_row4_col0\" class=\"data row4 col0\" >216</td>\n",
       "      <td id=\"T_7d9d2_row4_col1\" class=\"data row4 col1\" >184</td>\n",
       "      <td id=\"T_7d9d2_row4_col2\" class=\"data row4 col2\" >491</td>\n",
       "      <td id=\"T_7d9d2_row4_col3\" class=\"data row4 col3\" >891</td>\n",
       "    </tr>\n",
       "  </tbody>\n",
       "</table>\n"
      ],
      "text/plain": [
       "<pandas.io.formats.style.Styler at 0x7ffc60643d90>"
      ]
     },
     "execution_count": 234,
     "metadata": {},
     "output_type": "execute_result"
    }
   ],
   "source": [
    "pd.crosstab([train_data.Sex,train_data.Survived],train_data.Pclass,margins=True).style.background_gradient(cmap='YlOrRd')\n"
   ]
  },
  {
   "cell_type": "markdown",
   "id": "e6ca63a2-fec1-4ed4-b6ed-a7edce48b4c1",
   "metadata": {},
   "source": [
    "Looking at the CrossTab, we can easily infer that survival for Women from Pclass1 is about 95-96%, as only 3 out of 94 Women from Pclass1 died.\n",
    "\n",
    "It is evident that irrespective of Pclass, Women were given first priority while rescue. Even Men from Pclass1 have a very low survival rate."
   ]
  },
  {
   "cell_type": "markdown",
   "id": "82ee1962-5f92-4bf4-be90-5c04ad899747",
   "metadata": {},
   "source": [
    "### Age"
   ]
  },
  {
   "cell_type": "code",
   "execution_count": 235,
   "id": "026a438c-6428-4418-b0e7-aa3e91107619",
   "metadata": {},
   "outputs": [
    {
     "data": {
      "image/png": "[encoded data removed]",
      "text/plain": [
       "<Figure size 2000x1000 with 2 Axes>"
      ]
     },
     "metadata": {},
     "output_type": "display_data"
    }
   ],
   "source": [
    "f,ax=plt.subplots(1,2,figsize=(20,10))\n",
    "\n",
    "train_data[train_data['Survived']==0].Age.plot.hist(ax=ax[0],bins=20,edgecolor='black',color='pink')\n",
    "ax[0].set_title('NOT Survived')\n",
    "x1=list(range(0,85,5))\n",
    "ax[0].set_xticks(x1)\n",
    "\n",
    "train_data[train_data['Survived']==1].Age.plot.hist(ax=ax[1],color='green',bins=20,edgecolor='black')\n",
    "ax[1].set_title('Survived')\n",
    "x2=list(range(0,85,5))\n",
    "ax[1].set_xticks(x2)\n",
    "\n",
    "plt.show()"
   ]
  },
  {
   "cell_type": "markdown",
   "id": "5fbcb48c-8741-45eb-a0d4-b20c142330e6",
   "metadata": {},
   "source": [
    "**Conclusion**:\n",
    " - The Toddlers (age<5) were saved in large numbers.\n",
    " - The oldest Passenger was saved (80 years).\n",
    " - Maximum number of deaths were in the age group of 30-35.\n",
    " - The maximum number of survivors was in the age group of 20-25 and 32-37."
   ]
  },
  {
   "cell_type": "markdown",
   "id": "31548842-baf8-483c-b847-4dbec75e2d0a",
   "metadata": {},
   "source": [
    "### Embarked"
   ]
  },
  {
   "cell_type": "code",
   "execution_count": 236,
   "id": "48ce36e9-8ecf-4699-9483-e588e02d24f6",
   "metadata": {},
   "outputs": [
    {
     "data": {
      "image/png": "[encoded data removed]",
      "text/plain": [
       "<Figure size 569.375x500 with 1 Axes>"
      ]
     },
     "metadata": {},
     "output_type": "display_data"
    }
   ],
   "source": [
    "sns.catplot(data=train_data, x='Embarked', kind='count', hue='Survived',palette='deep')\n",
    "plt.title(\"The dependence of survival on Embarked\")\n",
    "plt.show()"
   ]
  },
  {
   "cell_type": "markdown",
   "id": "10c15d55-d6c3-4fbe-88e2-9970eab3f652",
   "metadata": {},
   "source": [
    "**Conclusion**: The chances for survival for Port C is highest around 0.55 while it is lowest for S."
   ]
  },
  {
   "cell_type": "markdown",
   "id": "6407796f-292c-4102-92f1-24cecced71c6",
   "metadata": {},
   "source": [
    "### SibSp"
   ]
  },
  {
   "cell_type": "code",
   "execution_count": 237,
   "id": "2d9480e0-a3b9-4981-917f-b8ef45e10fd9",
   "metadata": {},
   "outputs": [
    {
     "data": {
      "text/html": [
       "<style type=\"text/css\">\n",
       "#T_af433_row0_col0, #T_af433_row0_col1 {\n",
       "  background-color: #800026;\n",
       "  color: #f1f1f1;\n",
       "}\n",
       "#T_af433_row1_col0 {\n",
       "  background-color: #fedc7c;\n",
       "  color: #000000;\n",
       "}\n",
       "#T_af433_row1_col1 {\n",
       "  background-color: #fd7c37;\n",
       "  color: #f1f1f1;\n",
       "}\n",
       "#T_af433_row2_col0, #T_af433_row4_col0 {\n",
       "  background-color: #fffcc4;\n",
       "  color: #000000;\n",
       "}\n",
       "#T_af433_row2_col1 {\n",
       "  background-color: #fff7b7;\n",
       "  color: #000000;\n",
       "}\n",
       "#T_af433_row3_col0, #T_af433_row3_col1 {\n",
       "  background-color: #fffdc6;\n",
       "  color: #000000;\n",
       "}\n",
       "#T_af433_row4_col1 {\n",
       "  background-color: #fffdc8;\n",
       "  color: #000000;\n",
       "}\n",
       "#T_af433_row5_col0, #T_af433_row5_col1, #T_af433_row6_col1 {\n",
       "  background-color: #ffffcc;\n",
       "  color: #000000;\n",
       "}\n",
       "#T_af433_row6_col0 {\n",
       "  background-color: #fffecb;\n",
       "  color: #000000;\n",
       "}\n",
       "</style>\n",
       "<table id=\"T_af433\">\n",
       "  <thead>\n",
       "    <tr>\n",
       "      <th class=\"index_name level0\" >Survived</th>\n",
       "      <th id=\"T_af433_level0_col0\" class=\"col_heading level0 col0\" >0.000000</th>\n",
       "      <th id=\"T_af433_level0_col1\" class=\"col_heading level0 col1\" >1.000000</th>\n",
       "    </tr>\n",
       "    <tr>\n",
       "      <th class=\"index_name level0\" >SibSp</th>\n",
       "      <th class=\"blank col0\" >&nbsp;</th>\n",
       "      <th class=\"blank col1\" >&nbsp;</th>\n",
       "    </tr>\n",
       "  </thead>\n",
       "  <tbody>\n",
       "    <tr>\n",
       "      <th id=\"T_af433_level0_row0\" class=\"row_heading level0 row0\" >0</th>\n",
       "      <td id=\"T_af433_row0_col0\" class=\"data row0 col0\" >398</td>\n",
       "      <td id=\"T_af433_row0_col1\" class=\"data row0 col1\" >210</td>\n",
       "    </tr>\n",
       "    <tr>\n",
       "      <th id=\"T_af433_level0_row1\" class=\"row_heading level0 row1\" >1</th>\n",
       "      <td id=\"T_af433_row1_col0\" class=\"data row1 col0\" >97</td>\n",
       "      <td id=\"T_af433_row1_col1\" class=\"data row1 col1\" >112</td>\n",
       "    </tr>\n",
       "    <tr>\n",
       "      <th id=\"T_af433_level0_row2\" class=\"row_heading level0 row2\" >2</th>\n",
       "      <td id=\"T_af433_row2_col0\" class=\"data row2 col0\" >15</td>\n",
       "      <td id=\"T_af433_row2_col1\" class=\"data row2 col1\" >13</td>\n",
       "    </tr>\n",
       "    <tr>\n",
       "      <th id=\"T_af433_level0_row3\" class=\"row_heading level0 row3\" >3</th>\n",
       "      <td id=\"T_af433_row3_col0\" class=\"data row3 col0\" >12</td>\n",
       "      <td id=\"T_af433_row3_col1\" class=\"data row3 col1\" >4</td>\n",
       "    </tr>\n",
       "    <tr>\n",
       "      <th id=\"T_af433_level0_row4\" class=\"row_heading level0 row4\" >4</th>\n",
       "      <td id=\"T_af433_row4_col0\" class=\"data row4 col0\" >15</td>\n",
       "      <td id=\"T_af433_row4_col1\" class=\"data row4 col1\" >3</td>\n",
       "    </tr>\n",
       "    <tr>\n",
       "      <th id=\"T_af433_level0_row5\" class=\"row_heading level0 row5\" >5</th>\n",
       "      <td id=\"T_af433_row5_col0\" class=\"data row5 col0\" >5</td>\n",
       "      <td id=\"T_af433_row5_col1\" class=\"data row5 col1\" >0</td>\n",
       "    </tr>\n",
       "    <tr>\n",
       "      <th id=\"T_af433_level0_row6\" class=\"row_heading level0 row6\" >8</th>\n",
       "      <td id=\"T_af433_row6_col0\" class=\"data row6 col0\" >7</td>\n",
       "      <td id=\"T_af433_row6_col1\" class=\"data row6 col1\" >0</td>\n",
       "    </tr>\n",
       "  </tbody>\n",
       "</table>\n"
      ],
      "text/plain": [
       "<pandas.io.formats.style.Styler at 0x7ffc751cb7f0>"
      ]
     },
     "execution_count": 237,
     "metadata": {},
     "output_type": "execute_result"
    }
   ],
   "source": [
    "\n",
    "pd.crosstab([train_data.SibSp], train_data.Survived).style.background_gradient(cmap='YlOrRd')\n"
   ]
  },
  {
   "cell_type": "code",
   "execution_count": 238,
   "id": "f0a956cf-2d69-4795-a6da-f87ccc64baad",
   "metadata": {},
   "outputs": [
    {
     "data": {
      "text/html": [
       "<style type=\"text/css\">\n",
       "#T_20d3a_row0_col0, #T_20d3a_row0_col1, #T_20d3a_row0_col2 {\n",
       "  background-color: #800026;\n",
       "  color: #f1f1f1;\n",
       "}\n",
       "#T_20d3a_row1_col0 {\n",
       "  background-color: #fd8439;\n",
       "  color: #f1f1f1;\n",
       "}\n",
       "#T_20d3a_row1_col1 {\n",
       "  background-color: #fd9941;\n",
       "  color: #000000;\n",
       "}\n",
       "#T_20d3a_row1_col2 {\n",
       "  background-color: #fedd7f;\n",
       "  color: #000000;\n",
       "}\n",
       "#T_20d3a_row2_col0, #T_20d3a_row4_col2 {\n",
       "  background-color: #fffac0;\n",
       "  color: #000000;\n",
       "}\n",
       "#T_20d3a_row2_col1 {\n",
       "  background-color: #fff5b5;\n",
       "  color: #000000;\n",
       "}\n",
       "#T_20d3a_row2_col2 {\n",
       "  background-color: #fffbc2;\n",
       "  color: #000000;\n",
       "}\n",
       "#T_20d3a_row3_col0, #T_20d3a_row3_col2 {\n",
       "  background-color: #fffcc5;\n",
       "  color: #000000;\n",
       "}\n",
       "#T_20d3a_row3_col1 {\n",
       "  background-color: #fffec9;\n",
       "  color: #000000;\n",
       "}\n",
       "#T_20d3a_row4_col0, #T_20d3a_row4_col1, #T_20d3a_row5_col0, #T_20d3a_row5_col1, #T_20d3a_row5_col2, #T_20d3a_row6_col0, #T_20d3a_row6_col1 {\n",
       "  background-color: #ffffcc;\n",
       "  color: #000000;\n",
       "}\n",
       "#T_20d3a_row6_col2 {\n",
       "  background-color: #fffecb;\n",
       "  color: #000000;\n",
       "}\n",
       "</style>\n",
       "<table id=\"T_20d3a\">\n",
       "  <thead>\n",
       "    <tr>\n",
       "      <th class=\"index_name level0\" >Pclass</th>\n",
       "      <th id=\"T_20d3a_level0_col0\" class=\"col_heading level0 col0\" >1</th>\n",
       "      <th id=\"T_20d3a_level0_col1\" class=\"col_heading level0 col1\" >2</th>\n",
       "      <th id=\"T_20d3a_level0_col2\" class=\"col_heading level0 col2\" >3</th>\n",
       "    </tr>\n",
       "    <tr>\n",
       "      <th class=\"index_name level0\" >SibSp</th>\n",
       "      <th class=\"blank col0\" >&nbsp;</th>\n",
       "      <th class=\"blank col1\" >&nbsp;</th>\n",
       "      <th class=\"blank col2\" >&nbsp;</th>\n",
       "    </tr>\n",
       "  </thead>\n",
       "  <tbody>\n",
       "    <tr>\n",
       "      <th id=\"T_20d3a_level0_row0\" class=\"row_heading level0 row0\" >0</th>\n",
       "      <td id=\"T_20d3a_row0_col0\" class=\"data row0 col0\" >137</td>\n",
       "      <td id=\"T_20d3a_row0_col1\" class=\"data row0 col1\" >120</td>\n",
       "      <td id=\"T_20d3a_row0_col2\" class=\"data row0 col2\" >351</td>\n",
       "    </tr>\n",
       "    <tr>\n",
       "      <th id=\"T_20d3a_level0_row1\" class=\"row_heading level0 row1\" >1</th>\n",
       "      <td id=\"T_20d3a_row1_col0\" class=\"data row1 col0\" >71</td>\n",
       "      <td id=\"T_20d3a_row1_col1\" class=\"data row1 col1\" >55</td>\n",
       "      <td id=\"T_20d3a_row1_col2\" class=\"data row1 col2\" >83</td>\n",
       "    </tr>\n",
       "    <tr>\n",
       "      <th id=\"T_20d3a_level0_row2\" class=\"row_heading level0 row2\" >2</th>\n",
       "      <td id=\"T_20d3a_row2_col0\" class=\"data row2 col0\" >5</td>\n",
       "      <td id=\"T_20d3a_row2_col1\" class=\"data row2 col1\" >8</td>\n",
       "      <td id=\"T_20d3a_row2_col2\" class=\"data row2 col2\" >15</td>\n",
       "    </tr>\n",
       "    <tr>\n",
       "      <th id=\"T_20d3a_level0_row3\" class=\"row_heading level0 row3\" >3</th>\n",
       "      <td id=\"T_20d3a_row3_col0\" class=\"data row3 col0\" >3</td>\n",
       "      <td id=\"T_20d3a_row3_col1\" class=\"data row3 col1\" >1</td>\n",
       "      <td id=\"T_20d3a_row3_col2\" class=\"data row3 col2\" >12</td>\n",
       "    </tr>\n",
       "    <tr>\n",
       "      <th id=\"T_20d3a_level0_row4\" class=\"row_heading level0 row4\" >4</th>\n",
       "      <td id=\"T_20d3a_row4_col0\" class=\"data row4 col0\" >0</td>\n",
       "      <td id=\"T_20d3a_row4_col1\" class=\"data row4 col1\" >0</td>\n",
       "      <td id=\"T_20d3a_row4_col2\" class=\"data row4 col2\" >18</td>\n",
       "    </tr>\n",
       "    <tr>\n",
       "      <th id=\"T_20d3a_level0_row5\" class=\"row_heading level0 row5\" >5</th>\n",
       "      <td id=\"T_20d3a_row5_col0\" class=\"data row5 col0\" >0</td>\n",
       "      <td id=\"T_20d3a_row5_col1\" class=\"data row5 col1\" >0</td>\n",
       "      <td id=\"T_20d3a_row5_col2\" class=\"data row5 col2\" >5</td>\n",
       "    </tr>\n",
       "    <tr>\n",
       "      <th id=\"T_20d3a_level0_row6\" class=\"row_heading level0 row6\" >8</th>\n",
       "      <td id=\"T_20d3a_row6_col0\" class=\"data row6 col0\" >0</td>\n",
       "      <td id=\"T_20d3a_row6_col1\" class=\"data row6 col1\" >0</td>\n",
       "      <td id=\"T_20d3a_row6_col2\" class=\"data row6 col2\" >7</td>\n",
       "    </tr>\n",
       "  </tbody>\n",
       "</table>\n"
      ],
      "text/plain": [
       "<pandas.io.formats.style.Styler at 0x7ffca5582050>"
      ]
     },
     "execution_count": 238,
     "metadata": {},
     "output_type": "execute_result"
    }
   ],
   "source": [
    "\n",
    "pd.crosstab(train_data.SibSp, train_data.Pclass).style.background_gradient(cmap='YlOrRd')\n"
   ]
  },
  {
   "cell_type": "code",
   "execution_count": 239,
   "id": "00364215-39d2-41d7-99f4-6ab4778e3aad",
   "metadata": {},
   "outputs": [
    {
     "data": {
      "image/png": "[encoded data removed]",
      "text/plain": [
       "<Figure size 569.375x500 with 1 Axes>"
      ]
     },
     "metadata": {},
     "output_type": "display_data"
    }
   ],
   "source": [
    "sns.catplot(data=train_data, x='SibSp', kind='count', hue='Survived',palette='deep')\n",
    "plt.title(\"The dependence of survival on SibSp\")\n",
    "plt.show()"
   ]
  },
  {
   "cell_type": "markdown",
   "id": "31e64f4e-db2e-440a-a6c9-1e0beb9975ff",
   "metadata": {},
   "source": [
    "**Conclusion**: \n",
    "- If a passenger is on board alone, without siblings, his survival rate is the highest. Survival rate decreases if the number of siblings increases (human factor)\n",
    "\n",
    " - The survival rate of families of 5-8 people is 0%, since all these families belong to the 3rd class."
   ]
  },
  {
   "cell_type": "markdown",
   "id": "466db61a-8dcd-4494-923b-0e5254f895a9",
   "metadata": {},
   "source": [
    "### Parch"
   ]
  },
  {
   "cell_type": "code",
   "execution_count": 240,
   "id": "c5a3869b-bdd2-4f17-afb0-519b53a64632",
   "metadata": {},
   "outputs": [
    {
     "data": {
      "text/html": [
       "<style type=\"text/css\">\n",
       "#T_53213_row0_col0, #T_53213_row0_col1 {\n",
       "  background-color: #800026;\n",
       "  color: #f1f1f1;\n",
       "}\n",
       "#T_53213_row1_col0 {\n",
       "  background-color: #ffefa4;\n",
       "  color: #000000;\n",
       "}\n",
       "#T_53213_row1_col1 {\n",
       "  background-color: #fed06c;\n",
       "  color: #000000;\n",
       "}\n",
       "#T_53213_row2_col0 {\n",
       "  background-color: #fff3ae;\n",
       "  color: #000000;\n",
       "}\n",
       "#T_53213_row2_col1 {\n",
       "  background-color: #ffe691;\n",
       "  color: #000000;\n",
       "}\n",
       "#T_53213_row3_col0, #T_53213_row4_col1, #T_53213_row6_col0, #T_53213_row6_col1 {\n",
       "  background-color: #ffffcc;\n",
       "  color: #000000;\n",
       "}\n",
       "#T_53213_row3_col1 {\n",
       "  background-color: #fffdc8;\n",
       "  color: #000000;\n",
       "}\n",
       "#T_53213_row4_col0, #T_53213_row5_col0, #T_53213_row5_col1 {\n",
       "  background-color: #fffecb;\n",
       "  color: #000000;\n",
       "}\n",
       "</style>\n",
       "<table id=\"T_53213\">\n",
       "  <thead>\n",
       "    <tr>\n",
       "      <th class=\"index_name level0\" >Survived</th>\n",
       "      <th id=\"T_53213_level0_col0\" class=\"col_heading level0 col0\" >0.000000</th>\n",
       "      <th id=\"T_53213_level0_col1\" class=\"col_heading level0 col1\" >1.000000</th>\n",
       "    </tr>\n",
       "    <tr>\n",
       "      <th class=\"index_name level0\" >Parch</th>\n",
       "      <th class=\"blank col0\" >&nbsp;</th>\n",
       "      <th class=\"blank col1\" >&nbsp;</th>\n",
       "    </tr>\n",
       "  </thead>\n",
       "  <tbody>\n",
       "    <tr>\n",
       "      <th id=\"T_53213_level0_row0\" class=\"row_heading level0 row0\" >0</th>\n",
       "      <td id=\"T_53213_row0_col0\" class=\"data row0 col0\" >445</td>\n",
       "      <td id=\"T_53213_row0_col1\" class=\"data row0 col1\" >233</td>\n",
       "    </tr>\n",
       "    <tr>\n",
       "      <th id=\"T_53213_level0_row1\" class=\"row_heading level0 row1\" >1</th>\n",
       "      <td id=\"T_53213_row1_col0\" class=\"data row1 col0\" >53</td>\n",
       "      <td id=\"T_53213_row1_col1\" class=\"data row1 col1\" >65</td>\n",
       "    </tr>\n",
       "    <tr>\n",
       "      <th id=\"T_53213_level0_row2\" class=\"row_heading level0 row2\" >2</th>\n",
       "      <td id=\"T_53213_row2_col0\" class=\"data row2 col0\" >40</td>\n",
       "      <td id=\"T_53213_row2_col1\" class=\"data row2 col1\" >40</td>\n",
       "    </tr>\n",
       "    <tr>\n",
       "      <th id=\"T_53213_level0_row3\" class=\"row_heading level0 row3\" >3</th>\n",
       "      <td id=\"T_53213_row3_col0\" class=\"data row3 col0\" >2</td>\n",
       "      <td id=\"T_53213_row3_col1\" class=\"data row3 col1\" >3</td>\n",
       "    </tr>\n",
       "    <tr>\n",
       "      <th id=\"T_53213_level0_row4\" class=\"row_heading level0 row4\" >4</th>\n",
       "      <td id=\"T_53213_row4_col0\" class=\"data row4 col0\" >4</td>\n",
       "      <td id=\"T_53213_row4_col1\" class=\"data row4 col1\" >0</td>\n",
       "    </tr>\n",
       "    <tr>\n",
       "      <th id=\"T_53213_level0_row5\" class=\"row_heading level0 row5\" >5</th>\n",
       "      <td id=\"T_53213_row5_col0\" class=\"data row5 col0\" >4</td>\n",
       "      <td id=\"T_53213_row5_col1\" class=\"data row5 col1\" >1</td>\n",
       "    </tr>\n",
       "    <tr>\n",
       "      <th id=\"T_53213_level0_row6\" class=\"row_heading level0 row6\" >6</th>\n",
       "      <td id=\"T_53213_row6_col0\" class=\"data row6 col0\" >1</td>\n",
       "      <td id=\"T_53213_row6_col1\" class=\"data row6 col1\" >0</td>\n",
       "    </tr>\n",
       "  </tbody>\n",
       "</table>\n"
      ],
      "text/plain": [
       "<pandas.io.formats.style.Styler at 0x7ffca5616b30>"
      ]
     },
     "execution_count": 240,
     "metadata": {},
     "output_type": "execute_result"
    }
   ],
   "source": [
    "\n",
    "pd.crosstab([train_data.Parch], train_data.Survived).style.background_gradient(cmap='YlOrRd')\n"
   ]
  },
  {
   "cell_type": "code",
   "execution_count": 241,
   "id": "42c64b49-7e78-45d7-bcdb-8fc082c39535",
   "metadata": {},
   "outputs": [
    {
     "data": {
      "text/html": [
       "<style type=\"text/css\">\n",
       "#T_4c170_row0_col0, #T_4c170_row0_col1, #T_4c170_row0_col2 {\n",
       "  background-color: #800026;\n",
       "  color: #f1f1f1;\n",
       "}\n",
       "#T_4c170_row1_col0 {\n",
       "  background-color: #fee38b;\n",
       "  color: #000000;\n",
       "}\n",
       "#T_4c170_row1_col1 {\n",
       "  background-color: #fedb7a;\n",
       "  color: #000000;\n",
       "}\n",
       "#T_4c170_row1_col2 {\n",
       "  background-color: #ffea9b;\n",
       "  color: #000000;\n",
       "}\n",
       "#T_4c170_row2_col0 {\n",
       "  background-color: #ffeda0;\n",
       "  color: #000000;\n",
       "}\n",
       "#T_4c170_row2_col1 {\n",
       "  background-color: #ffeea3;\n",
       "  color: #000000;\n",
       "}\n",
       "#T_4c170_row2_col2 {\n",
       "  background-color: #ffefa5;\n",
       "  color: #000000;\n",
       "}\n",
       "#T_4c170_row3_col0, #T_4c170_row4_col1, #T_4c170_row5_col0, #T_4c170_row5_col1, #T_4c170_row6_col0, #T_4c170_row6_col1, #T_4c170_row6_col2 {\n",
       "  background-color: #ffffcc;\n",
       "  color: #000000;\n",
       "}\n",
       "#T_4c170_row3_col1 {\n",
       "  background-color: #fffdc8;\n",
       "  color: #000000;\n",
       "}\n",
       "#T_4c170_row3_col2, #T_4c170_row4_col0, #T_4c170_row4_col2 {\n",
       "  background-color: #fffecb;\n",
       "  color: #000000;\n",
       "}\n",
       "#T_4c170_row5_col2 {\n",
       "  background-color: #fffec9;\n",
       "  color: #000000;\n",
       "}\n",
       "</style>\n",
       "<table id=\"T_4c170\">\n",
       "  <thead>\n",
       "    <tr>\n",
       "      <th class=\"index_name level0\" >Pclass</th>\n",
       "      <th id=\"T_4c170_level0_col0\" class=\"col_heading level0 col0\" >1</th>\n",
       "      <th id=\"T_4c170_level0_col1\" class=\"col_heading level0 col1\" >2</th>\n",
       "      <th id=\"T_4c170_level0_col2\" class=\"col_heading level0 col2\" >3</th>\n",
       "    </tr>\n",
       "    <tr>\n",
       "      <th class=\"index_name level0\" >Parch</th>\n",
       "      <th class=\"blank col0\" >&nbsp;</th>\n",
       "      <th class=\"blank col1\" >&nbsp;</th>\n",
       "      <th class=\"blank col2\" >&nbsp;</th>\n",
       "    </tr>\n",
       "  </thead>\n",
       "  <tbody>\n",
       "    <tr>\n",
       "      <th id=\"T_4c170_level0_row0\" class=\"row_heading level0 row0\" >0</th>\n",
       "      <td id=\"T_4c170_row0_col0\" class=\"data row0 col0\" >163</td>\n",
       "      <td id=\"T_4c170_row0_col1\" class=\"data row0 col1\" >134</td>\n",
       "      <td id=\"T_4c170_row0_col2\" class=\"data row0 col2\" >381</td>\n",
       "    </tr>\n",
       "    <tr>\n",
       "      <th id=\"T_4c170_level0_row1\" class=\"row_heading level0 row1\" >1</th>\n",
       "      <td id=\"T_4c170_row1_col0\" class=\"data row1 col0\" >31</td>\n",
       "      <td id=\"T_4c170_row1_col1\" class=\"data row1 col1\" >32</td>\n",
       "      <td id=\"T_4c170_row1_col2\" class=\"data row1 col2\" >55</td>\n",
       "    </tr>\n",
       "    <tr>\n",
       "      <th id=\"T_4c170_level0_row2\" class=\"row_heading level0 row2\" >2</th>\n",
       "      <td id=\"T_4c170_row2_col0\" class=\"data row2 col0\" >21</td>\n",
       "      <td id=\"T_4c170_row2_col1\" class=\"data row2 col1\" >16</td>\n",
       "      <td id=\"T_4c170_row2_col2\" class=\"data row2 col2\" >43</td>\n",
       "    </tr>\n",
       "    <tr>\n",
       "      <th id=\"T_4c170_level0_row3\" class=\"row_heading level0 row3\" >3</th>\n",
       "      <td id=\"T_4c170_row3_col0\" class=\"data row3 col0\" >0</td>\n",
       "      <td id=\"T_4c170_row3_col1\" class=\"data row3 col1\" >2</td>\n",
       "      <td id=\"T_4c170_row3_col2\" class=\"data row3 col2\" >3</td>\n",
       "    </tr>\n",
       "    <tr>\n",
       "      <th id=\"T_4c170_level0_row4\" class=\"row_heading level0 row4\" >4</th>\n",
       "      <td id=\"T_4c170_row4_col0\" class=\"data row4 col0\" >1</td>\n",
       "      <td id=\"T_4c170_row4_col1\" class=\"data row4 col1\" >0</td>\n",
       "      <td id=\"T_4c170_row4_col2\" class=\"data row4 col2\" >3</td>\n",
       "    </tr>\n",
       "    <tr>\n",
       "      <th id=\"T_4c170_level0_row5\" class=\"row_heading level0 row5\" >5</th>\n",
       "      <td id=\"T_4c170_row5_col0\" class=\"data row5 col0\" >0</td>\n",
       "      <td id=\"T_4c170_row5_col1\" class=\"data row5 col1\" >0</td>\n",
       "      <td id=\"T_4c170_row5_col2\" class=\"data row5 col2\" >5</td>\n",
       "    </tr>\n",
       "    <tr>\n",
       "      <th id=\"T_4c170_level0_row6\" class=\"row_heading level0 row6\" >6</th>\n",
       "      <td id=\"T_4c170_row6_col0\" class=\"data row6 col0\" >0</td>\n",
       "      <td id=\"T_4c170_row6_col1\" class=\"data row6 col1\" >0</td>\n",
       "      <td id=\"T_4c170_row6_col2\" class=\"data row6 col2\" >1</td>\n",
       "    </tr>\n",
       "  </tbody>\n",
       "</table>\n"
      ],
      "text/plain": [
       "<pandas.io.formats.style.Styler at 0x7ffc7512c040>"
      ]
     },
     "execution_count": 241,
     "metadata": {},
     "output_type": "execute_result"
    }
   ],
   "source": [
    "\n",
    "pd.crosstab(train_data.Parch, train_data.Pclass).style.background_gradient(cmap='YlOrRd')\n"
   ]
  },
  {
   "cell_type": "code",
   "execution_count": 242,
   "id": "11060a66-f33e-44c5-b6a5-76eef42ea8bb",
   "metadata": {},
   "outputs": [
    {
     "data": {
      "image/png": "[encoded data removed]",
      "text/plain": [
       "<Figure size 569.375x500 with 1 Axes>"
      ]
     },
     "metadata": {},
     "output_type": "display_data"
    }
   ],
   "source": [
    "sns.catplot(data=train_data, x='Parch', kind='count', hue='Survived',palette='deep')\n",
    "plt.title(\"The dependence of survival on Parch\")\n",
    "plt.show()"
   ]
  },
  {
   "cell_type": "markdown",
   "id": "303d2aac-fd0b-4f4a-9e0c-a4b9e40db594",
   "metadata": {},
   "source": [
    "**Conclusion**: \n",
    " - Here too the results are quite similar. Passengers with their parents on board have greater chance of survival. It however reduces as the number goes up.\n",
    "\n",
    " - The chances of survival is good for somebody who has 1-3 parents on the ship. Being alone also proven to be fatal and the chances for survival decreases when somebody has >4 parents on the ship."
   ]
  },
  {
   "cell_type": "markdown",
   "id": "728b9701-c0bb-4ae9-b0aa-f5a5faabfe47",
   "metadata": {},
   "source": [
    "### Fare"
   ]
  },
  {
   "cell_type": "code",
   "execution_count": 243,
   "id": "8d26ca56-6b54-42a3-960a-91db22d179c5",
   "metadata": {},
   "outputs": [
    {
     "data": {
      "image/png": "[encoded data removed]",
      "text/plain": [
       "<Figure size 2000x800 with 3 Axes>"
      ]
     },
     "metadata": {},
     "output_type": "display_data"
    }
   ],
   "source": [
    "f,ax=plt.subplots(1,3,figsize=(20,8))\n",
    "\n",
    "sns.histplot(train_data[train_data['Pclass']==1].Fare, ax=ax[0], kde=True, linewidth=0)\n",
    "ax[0].set_title('Fares in Pclass 1')\n",
    "sns.histplot(train_data[train_data['Pclass']==2].Fare,ax=ax[1], kde=True, linewidth=0)\n",
    "ax[1].set_title('Fares in Pclass 2')\n",
    "sns.histplot(train_data[train_data['Pclass']==3].Fare,ax=ax[2], kde=True, linewidth=0)\n",
    "ax[2].set_title('Fares in Pclass 3')\n",
    "\n",
    "plt.show()"
   ]
  },
  {
   "cell_type": "markdown",
   "id": "a846af88-e0d5-45bb-ae80-b1e6ead418b3",
   "metadata": {},
   "source": [
    "### Correlation Between The Features"
   ]
  },
  {
   "cell_type": "code",
   "execution_count": 244,
   "id": "7b0da7dd-9794-40e2-b900-5d7636c67523",
   "metadata": {},
   "outputs": [
    {
     "data": {
      "image/png": "[encoded data removed]",
      "text/plain": [
       "<Figure size 1200x1000 with 2 Axes>"
      ]
     },
     "metadata": {},
     "output_type": "display_data"
    }
   ],
   "source": [
    "#data.corr()-->correlation matrix\n",
    "sns.heatmap(train_data.corr(),annot=True,cmap='RdYlGn',linewidths=0.2) \n",
    "fig=plt.gcf()\n",
    "fig.set_size_inches(12,10)\n",
    "plt.show()"
   ]
  },
  {
   "cell_type": "markdown",
   "id": "8ee4a398-3571-4186-b9f2-c0e43dc4d42b",
   "metadata": {},
   "source": [
    "Now from the above heatmap,we can see that the features are not much correlated. The highest correlation is between SibSp and Parch i.e 0.41. So we can carry on with all features."
   ]
  },
  {
   "cell_type": "markdown",
   "id": "b99766d8-b67f-40fb-b1df-a53908cc9ac4",
   "metadata": {},
   "source": [
    "## Feature Engineering"
   ]
  },
  {
   "cell_type": "markdown",
   "id": "20db7ff7-3344-442f-9c31-904180dd01a1",
   "metadata": {},
   "source": [
    "### Age group"
   ]
  },
  {
   "cell_type": "code",
   "execution_count": 563,
   "id": "7082ccb1-5a39-4155-b29d-6c1f354c18c8",
   "metadata": {},
   "outputs": [
    {
     "data": {
      "text/plain": [
       "<Axes: xlabel='Age', ylabel='Count'>"
      ]
     },
     "execution_count": 563,
     "metadata": {},
     "output_type": "execute_result"
    },
    {
     "data": {
      "image/png": "[encoded data removed]",
      "text/plain": [
       "<Figure size 640x480 with 1 Axes>"
      ]
     },
     "metadata": {},
     "output_type": "display_data"
    }
   ],
   "source": [
    "sns.histplot(all_data['Age'])"
   ]
  },
  {
   "cell_type": "markdown",
   "id": "99c7ccc1-a839-4a95-9cac-cbe43f0d0360",
   "metadata": {},
   "source": [
    "`Age` feature has a normal distribution with some spikes and bumps and 10 quantile based bins are used for `Age`. The first bin has the highest survival rate and 4th bin has the lowest survival rate. Those were the biggest spikes in the distribution. "
   ]
  },
  {
   "cell_type": "code",
   "execution_count": 564,
   "id": "4755d47a-da67-4261-b0d0-8ad0151034c1",
   "metadata": {},
   "outputs": [],
   "source": [
    "all_data['Age'] = pd.qcut(all_data['Age'], 10, duplicates='drop')"
   ]
  },
  {
   "cell_type": "code",
   "execution_count": 565,
   "id": "1909343c-4697-4818-a4dd-852f3f520a28",
   "metadata": {},
   "outputs": [
    {
     "data": {
      "text/html": [
       "<div>\n",
       "<style scoped>\n",
       "    .dataframe tbody tr th:only-of-type {\n",
       "        vertical-align: middle;\n",
       "    }\n",
       "\n",
       "    .dataframe tbody tr th {\n",
       "        vertical-align: top;\n",
       "    }\n",
       "\n",
       "    .dataframe thead th {\n",
       "        text-align: right;\n",
       "    }\n",
       "</style>\n",
       "<table border=\"1\" class=\"dataframe\">\n",
       "  <thead>\n",
       "    <tr style=\"text-align: right;\">\n",
       "      <th></th>\n",
       "      <th>Age</th>\n",
       "      <th>Embarked</th>\n",
       "      <th>Fare</th>\n",
       "      <th>Name</th>\n",
       "      <th>Parch</th>\n",
       "      <th>PassengerId</th>\n",
       "      <th>Pclass</th>\n",
       "      <th>Sex</th>\n",
       "      <th>SibSp</th>\n",
       "      <th>Survived</th>\n",
       "      <th>Ticket</th>\n",
       "      <th>Initial</th>\n",
       "    </tr>\n",
       "  </thead>\n",
       "  <tbody>\n",
       "    <tr>\n",
       "      <th>0</th>\n",
       "      <td>(21.0, 22.7]</td>\n",
       "      <td>S</td>\n",
       "      <td>7.2500</td>\n",
       "      <td>Braund, Mr. Owen Harris</td>\n",
       "      <td>0</td>\n",
       "      <td>1</td>\n",
       "      <td>3</td>\n",
       "      <td>male</td>\n",
       "      <td>1</td>\n",
       "      <td>0.0</td>\n",
       "      <td>A/5 21171</td>\n",
       "      <td>Mr</td>\n",
       "    </tr>\n",
       "    <tr>\n",
       "      <th>1</th>\n",
       "      <td>(33.0, 39.0]</td>\n",
       "      <td>C</td>\n",
       "      <td>71.2833</td>\n",
       "      <td>Cumings, Mrs. John Bradley (Florence Briggs Th...</td>\n",
       "      <td>0</td>\n",
       "      <td>2</td>\n",
       "      <td>1</td>\n",
       "      <td>female</td>\n",
       "      <td>1</td>\n",
       "      <td>1.0</td>\n",
       "      <td>PC 17599</td>\n",
       "      <td>Mrs</td>\n",
       "    </tr>\n",
       "    <tr>\n",
       "      <th>2</th>\n",
       "      <td>(22.7, 26.0]</td>\n",
       "      <td>S</td>\n",
       "      <td>7.9250</td>\n",
       "      <td>Heikkinen, Miss. Laina</td>\n",
       "      <td>0</td>\n",
       "      <td>3</td>\n",
       "      <td>3</td>\n",
       "      <td>female</td>\n",
       "      <td>0</td>\n",
       "      <td>1.0</td>\n",
       "      <td>STON/O2. 3101282</td>\n",
       "      <td>Miss</td>\n",
       "    </tr>\n",
       "    <tr>\n",
       "      <th>3</th>\n",
       "      <td>(33.0, 39.0]</td>\n",
       "      <td>S</td>\n",
       "      <td>53.1000</td>\n",
       "      <td>Futrelle, Mrs. Jacques Heath (Lily May Peel)</td>\n",
       "      <td>0</td>\n",
       "      <td>4</td>\n",
       "      <td>1</td>\n",
       "      <td>female</td>\n",
       "      <td>1</td>\n",
       "      <td>1.0</td>\n",
       "      <td>113803</td>\n",
       "      <td>Mrs</td>\n",
       "    </tr>\n",
       "    <tr>\n",
       "      <th>4</th>\n",
       "      <td>(33.0, 39.0]</td>\n",
       "      <td>S</td>\n",
       "      <td>8.0500</td>\n",
       "      <td>Allen, Mr. William Henry</td>\n",
       "      <td>0</td>\n",
       "      <td>5</td>\n",
       "      <td>3</td>\n",
       "      <td>male</td>\n",
       "      <td>0</td>\n",
       "      <td>0.0</td>\n",
       "      <td>373450</td>\n",
       "      <td>Mr</td>\n",
       "    </tr>\n",
       "  </tbody>\n",
       "</table>\n",
       "</div>"
      ],
      "text/plain": [
       "            Age Embarked     Fare  \\\n",
       "0  (21.0, 22.7]        S   7.2500   \n",
       "1  (33.0, 39.0]        C  71.2833   \n",
       "2  (22.7, 26.0]        S   7.9250   \n",
       "3  (33.0, 39.0]        S  53.1000   \n",
       "4  (33.0, 39.0]        S   8.0500   \n",
       "\n",
       "                                                Name  Parch  PassengerId  \\\n",
       "0                            Braund, Mr. Owen Harris      0            1   \n",
       "1  Cumings, Mrs. John Bradley (Florence Briggs Th...      0            2   \n",
       "2                             Heikkinen, Miss. Laina      0            3   \n",
       "3       Futrelle, Mrs. Jacques Heath (Lily May Peel)      0            4   \n",
       "4                           Allen, Mr. William Henry      0            5   \n",
       "\n",
       "   Pclass     Sex  SibSp  Survived            Ticket Initial  \n",
       "0       3    male      1       0.0         A/5 21171      Mr  \n",
       "1       1  female      1       1.0          PC 17599     Mrs  \n",
       "2       3  female      0       1.0  STON/O2. 3101282    Miss  \n",
       "3       1  female      1       1.0            113803     Mrs  \n",
       "4       3    male      0       0.0            373450      Mr  "
      ]
     },
     "execution_count": 565,
     "metadata": {},
     "output_type": "execute_result"
    }
   ],
   "source": [
    "all_data.head()"
   ]
  },
  {
   "cell_type": "code",
   "execution_count": 566,
   "id": "ee86478d-b29e-4c64-a5f1-e89f178821a3",
   "metadata": {},
   "outputs": [
    {
     "data": {
      "image/png": "[encoded data removed]",
      "text/plain": [
       "<Figure size 2200x900 with 1 Axes>"
      ]
     },
     "metadata": {},
     "output_type": "display_data"
    }
   ],
   "source": [
    "fig, axs = plt.subplots(figsize=(22, 9))\n",
    "sns.countplot(x='Age', hue='Survived', data=all_data)\n",
    "\n",
    "plt.xlabel('Age', size=15, labelpad=20)\n",
    "plt.ylabel('Passenger Count', size=15, labelpad=20)\n",
    "plt.tick_params(axis='x', labelsize=15)\n",
    "plt.tick_params(axis='y', labelsize=15)\n",
    "\n",
    "plt.legend(['Not Survived', 'Survived'], loc='upper right', prop={'size': 15})\n",
    "plt.title('Survival Counts in {} Feature'.format('Age'), size=15, y=1.05)\n",
    "\n",
    "plt.show()"
   ]
  },
  {
   "cell_type": "markdown",
   "id": "948b88d5-a8fc-4261-9612-cece1185f9b8",
   "metadata": {},
   "source": [
    "### Family_Size and Alone"
   ]
  },
  {
   "cell_type": "markdown",
   "id": "43995261-b02e-4478-8a86-51ef9ba9e6a3",
   "metadata": {},
   "source": [
    "**Since Perch and Subsp had the largest correlation between each other on the heat map, it may be worth summing them up.**\n",
    "\n",
    "We create a new function called \"Family_size\" and \"Alone\" and analyze it. This gives us the combined data so we can check if the survival rate has anything to do with the size of the passengers' family. \"Alone\" will mean whether the passenger is alone or not."
   ]
  },
  {
   "cell_type": "code",
   "execution_count": 567,
   "id": "ce5537f5-d92a-4668-a060-8ffafecb4ca4",
   "metadata": {},
   "outputs": [],
   "source": [
    "all_data['Family_Size']=0\n",
    "all_data['Family_Size']=all_data['Parch']+all_data['SibSp']\n",
    "all_data['Alone']=0\n",
    "all_data.loc[all_data.Family_Size==0,'Alone']=1"
   ]
  },
  {
   "cell_type": "code",
   "execution_count": 568,
   "id": "7f1ccb61-91ad-4926-ac1b-6ac6d13163af",
   "metadata": {},
   "outputs": [
    {
     "data": {
      "text/html": [
       "<style type=\"text/css\">\n",
       "#T_fa126_row0_col0, #T_fa126_row0_col1 {\n",
       "  background-color: #800026;\n",
       "  color: #f1f1f1;\n",
       "}\n",
       "#T_fa126_row1_col0 {\n",
       "  background-color: #ffe58f;\n",
       "  color: #000000;\n",
       "}\n",
       "#T_fa126_row1_col1 {\n",
       "  background-color: #fd7636;\n",
       "  color: #f1f1f1;\n",
       "}\n",
       "#T_fa126_row2_col0 {\n",
       "  background-color: #fff1a9;\n",
       "  color: #000000;\n",
       "}\n",
       "#T_fa126_row2_col1 {\n",
       "  background-color: #feb651;\n",
       "  color: #000000;\n",
       "}\n",
       "#T_fa126_row3_col0, #T_fa126_row6_col0 {\n",
       "  background-color: #fffecb;\n",
       "  color: #000000;\n",
       "}\n",
       "#T_fa126_row3_col1 {\n",
       "  background-color: #ffeda0;\n",
       "  color: #000000;\n",
       "}\n",
       "#T_fa126_row4_col0, #T_fa126_row4_col1, #T_fa126_row5_col1 {\n",
       "  background-color: #fffdc6;\n",
       "  color: #000000;\n",
       "}\n",
       "#T_fa126_row5_col0 {\n",
       "  background-color: #fffac0;\n",
       "  color: #000000;\n",
       "}\n",
       "#T_fa126_row6_col1 {\n",
       "  background-color: #fffcc4;\n",
       "  color: #000000;\n",
       "}\n",
       "#T_fa126_row7_col0, #T_fa126_row7_col1, #T_fa126_row8_col0, #T_fa126_row8_col1 {\n",
       "  background-color: #ffffcc;\n",
       "  color: #000000;\n",
       "}\n",
       "</style>\n",
       "<table id=\"T_fa126\">\n",
       "  <thead>\n",
       "    <tr>\n",
       "      <th class=\"index_name level0\" >Survived</th>\n",
       "      <th id=\"T_fa126_level0_col0\" class=\"col_heading level0 col0\" >0.000000</th>\n",
       "      <th id=\"T_fa126_level0_col1\" class=\"col_heading level0 col1\" >1.000000</th>\n",
       "    </tr>\n",
       "    <tr>\n",
       "      <th class=\"index_name level0\" >Family_Size</th>\n",
       "      <th class=\"blank col0\" >&nbsp;</th>\n",
       "      <th class=\"blank col1\" >&nbsp;</th>\n",
       "    </tr>\n",
       "  </thead>\n",
       "  <tbody>\n",
       "    <tr>\n",
       "      <th id=\"T_fa126_level0_row0\" class=\"row_heading level0 row0\" >0</th>\n",
       "      <td id=\"T_fa126_row0_col0\" class=\"data row0 col0\" >374</td>\n",
       "      <td id=\"T_fa126_row0_col1\" class=\"data row0 col1\" >163</td>\n",
       "    </tr>\n",
       "    <tr>\n",
       "      <th id=\"T_fa126_level0_row1\" class=\"row_heading level0 row1\" >1</th>\n",
       "      <td id=\"T_fa126_row1_col0\" class=\"data row1 col0\" >72</td>\n",
       "      <td id=\"T_fa126_row1_col1\" class=\"data row1 col1\" >89</td>\n",
       "    </tr>\n",
       "    <tr>\n",
       "      <th id=\"T_fa126_level0_row2\" class=\"row_heading level0 row2\" >2</th>\n",
       "      <td id=\"T_fa126_row2_col0\" class=\"data row2 col0\" >43</td>\n",
       "      <td id=\"T_fa126_row2_col1\" class=\"data row2 col1\" >59</td>\n",
       "    </tr>\n",
       "    <tr>\n",
       "      <th id=\"T_fa126_level0_row3\" class=\"row_heading level0 row3\" >3</th>\n",
       "      <td id=\"T_fa126_row3_col0\" class=\"data row3 col0\" >8</td>\n",
       "      <td id=\"T_fa126_row3_col1\" class=\"data row3 col1\" >21</td>\n",
       "    </tr>\n",
       "    <tr>\n",
       "      <th id=\"T_fa126_level0_row4\" class=\"row_heading level0 row4\" >4</th>\n",
       "      <td id=\"T_fa126_row4_col0\" class=\"data row4 col0\" >12</td>\n",
       "      <td id=\"T_fa126_row4_col1\" class=\"data row4 col1\" >3</td>\n",
       "    </tr>\n",
       "    <tr>\n",
       "      <th id=\"T_fa126_level0_row5\" class=\"row_heading level0 row5\" >5</th>\n",
       "      <td id=\"T_fa126_row5_col0\" class=\"data row5 col0\" >19</td>\n",
       "      <td id=\"T_fa126_row5_col1\" class=\"data row5 col1\" >3</td>\n",
       "    </tr>\n",
       "    <tr>\n",
       "      <th id=\"T_fa126_level0_row6\" class=\"row_heading level0 row6\" >6</th>\n",
       "      <td id=\"T_fa126_row6_col0\" class=\"data row6 col0\" >8</td>\n",
       "      <td id=\"T_fa126_row6_col1\" class=\"data row6 col1\" >4</td>\n",
       "    </tr>\n",
       "    <tr>\n",
       "      <th id=\"T_fa126_level0_row7\" class=\"row_heading level0 row7\" >7</th>\n",
       "      <td id=\"T_fa126_row7_col0\" class=\"data row7 col0\" >6</td>\n",
       "      <td id=\"T_fa126_row7_col1\" class=\"data row7 col1\" >0</td>\n",
       "    </tr>\n",
       "    <tr>\n",
       "      <th id=\"T_fa126_level0_row8\" class=\"row_heading level0 row8\" >10</th>\n",
       "      <td id=\"T_fa126_row8_col0\" class=\"data row8 col0\" >7</td>\n",
       "      <td id=\"T_fa126_row8_col1\" class=\"data row8 col1\" >0</td>\n",
       "    </tr>\n",
       "  </tbody>\n",
       "</table>\n"
      ],
      "text/plain": [
       "<pandas.io.formats.style.Styler at 0x7ffc82609840>"
      ]
     },
     "execution_count": 568,
     "metadata": {},
     "output_type": "execute_result"
    }
   ],
   "source": [
    "pd.crosstab([all_data.Family_Size], all_data.Survived).style.background_gradient(cmap='YlOrRd')"
   ]
  },
  {
   "cell_type": "code",
   "execution_count": 569,
   "id": "a9bb7a66-2b3d-45df-9056-68824f802aec",
   "metadata": {},
   "outputs": [
    {
     "data": {
      "text/html": [
       "<style type=\"text/css\">\n",
       "#T_6174f_row0_col0, #T_6174f_row1_col1 {\n",
       "  background-color: #ffffcc;\n",
       "  color: #000000;\n",
       "}\n",
       "#T_6174f_row0_col1, #T_6174f_row1_col0 {\n",
       "  background-color: #800026;\n",
       "  color: #f1f1f1;\n",
       "}\n",
       "</style>\n",
       "<table id=\"T_6174f\">\n",
       "  <thead>\n",
       "    <tr>\n",
       "      <th class=\"index_name level0\" >Survived</th>\n",
       "      <th id=\"T_6174f_level0_col0\" class=\"col_heading level0 col0\" >0.000000</th>\n",
       "      <th id=\"T_6174f_level0_col1\" class=\"col_heading level0 col1\" >1.000000</th>\n",
       "    </tr>\n",
       "    <tr>\n",
       "      <th class=\"index_name level0\" >Alone</th>\n",
       "      <th class=\"blank col0\" >&nbsp;</th>\n",
       "      <th class=\"blank col1\" >&nbsp;</th>\n",
       "    </tr>\n",
       "  </thead>\n",
       "  <tbody>\n",
       "    <tr>\n",
       "      <th id=\"T_6174f_level0_row0\" class=\"row_heading level0 row0\" >0</th>\n",
       "      <td id=\"T_6174f_row0_col0\" class=\"data row0 col0\" >175</td>\n",
       "      <td id=\"T_6174f_row0_col1\" class=\"data row0 col1\" >179</td>\n",
       "    </tr>\n",
       "    <tr>\n",
       "      <th id=\"T_6174f_level0_row1\" class=\"row_heading level0 row1\" >1</th>\n",
       "      <td id=\"T_6174f_row1_col0\" class=\"data row1 col0\" >374</td>\n",
       "      <td id=\"T_6174f_row1_col1\" class=\"data row1 col1\" >163</td>\n",
       "    </tr>\n",
       "  </tbody>\n",
       "</table>\n"
      ],
      "text/plain": [
       "<pandas.io.formats.style.Styler at 0x7ffc97ca6b00>"
      ]
     },
     "execution_count": 569,
     "metadata": {},
     "output_type": "execute_result"
    }
   ],
   "source": [
    "pd.crosstab([all_data.Alone], all_data.Survived).style.background_gradient(cmap='YlOrRd')"
   ]
  },
  {
   "cell_type": "code",
   "execution_count": 570,
   "id": "07d8ee9f-4a41-4588-8dad-f2f02f5b34a9",
   "metadata": {},
   "outputs": [
    {
     "data": {
      "text/html": [
       "<style type=\"text/css\">\n",
       "#T_f604c_row0_col0, #T_f604c_row0_col1, #T_f604c_row0_col2 {\n",
       "  background-color: #800026;\n",
       "  color: #f1f1f1;\n",
       "}\n",
       "#T_f604c_row1_col0 {\n",
       "  background-color: #f74327;\n",
       "  color: #f1f1f1;\n",
       "}\n",
       "#T_f604c_row1_col1 {\n",
       "  background-color: #fec05b;\n",
       "  color: #000000;\n",
       "}\n",
       "#T_f604c_row1_col2 {\n",
       "  background-color: #ffe997;\n",
       "  color: #000000;\n",
       "}\n",
       "#T_f604c_row2_col0 {\n",
       "  background-color: #feda78;\n",
       "  color: #000000;\n",
       "}\n",
       "#T_f604c_row2_col1 {\n",
       "  background-color: #fecf6b;\n",
       "  color: #000000;\n",
       "}\n",
       "#T_f604c_row2_col2 {\n",
       "  background-color: #ffea9b;\n",
       "  color: #000000;\n",
       "}\n",
       "#T_f604c_row3_col0 {\n",
       "  background-color: #fff7b9;\n",
       "  color: #000000;\n",
       "}\n",
       "#T_f604c_row3_col1 {\n",
       "  background-color: #ffeda0;\n",
       "  color: #000000;\n",
       "}\n",
       "#T_f604c_row3_col2 {\n",
       "  background-color: #fffdc8;\n",
       "  color: #000000;\n",
       "}\n",
       "#T_f604c_row4_col0 {\n",
       "  background-color: #fffac1;\n",
       "  color: #000000;\n",
       "}\n",
       "#T_f604c_row4_col1, #T_f604c_row5_col1, #T_f604c_row8_col2 {\n",
       "  background-color: #fffecb;\n",
       "  color: #000000;\n",
       "}\n",
       "#T_f604c_row4_col2, #T_f604c_row6_col2 {\n",
       "  background-color: #fffdc6;\n",
       "  color: #000000;\n",
       "}\n",
       "#T_f604c_row5_col0 {\n",
       "  background-color: #fffac0;\n",
       "  color: #000000;\n",
       "}\n",
       "#T_f604c_row5_col2 {\n",
       "  background-color: #fffcc5;\n",
       "  color: #000000;\n",
       "}\n",
       "#T_f604c_row6_col0, #T_f604c_row6_col1, #T_f604c_row7_col0, #T_f604c_row7_col1, #T_f604c_row7_col2, #T_f604c_row8_col0, #T_f604c_row8_col1 {\n",
       "  background-color: #ffffcc;\n",
       "  color: #000000;\n",
       "}\n",
       "</style>\n",
       "<table id=\"T_f604c\">\n",
       "  <thead>\n",
       "    <tr>\n",
       "      <th class=\"index_name level0\" >Pclass</th>\n",
       "      <th id=\"T_f604c_level0_col0\" class=\"col_heading level0 col0\" >1</th>\n",
       "      <th id=\"T_f604c_level0_col1\" class=\"col_heading level0 col1\" >2</th>\n",
       "      <th id=\"T_f604c_level0_col2\" class=\"col_heading level0 col2\" >3</th>\n",
       "    </tr>\n",
       "    <tr>\n",
       "      <th class=\"index_name level0\" >Family_Size</th>\n",
       "      <th class=\"blank col0\" >&nbsp;</th>\n",
       "      <th class=\"blank col1\" >&nbsp;</th>\n",
       "      <th class=\"blank col2\" >&nbsp;</th>\n",
       "    </tr>\n",
       "  </thead>\n",
       "  <tbody>\n",
       "    <tr>\n",
       "      <th id=\"T_f604c_level0_row0\" class=\"row_heading level0 row0\" >0</th>\n",
       "      <td id=\"T_f604c_row0_col0\" class=\"data row0 col0\" >160</td>\n",
       "      <td id=\"T_f604c_row0_col1\" class=\"data row0 col1\" >158</td>\n",
       "      <td id=\"T_f604c_row0_col2\" class=\"data row0 col2\" >472</td>\n",
       "    </tr>\n",
       "    <tr>\n",
       "      <th id=\"T_f604c_level0_row1\" class=\"row_heading level0 row1\" >1</th>\n",
       "      <td id=\"T_f604c_row1_col0\" class=\"data row1 col0\" >104</td>\n",
       "      <td id=\"T_f604c_row1_col1\" class=\"data row1 col1\" >52</td>\n",
       "      <td id=\"T_f604c_row1_col2\" class=\"data row1 col2\" >79</td>\n",
       "    </tr>\n",
       "    <tr>\n",
       "      <th id=\"T_f604c_level0_row2\" class=\"row_heading level0 row2\" >2</th>\n",
       "      <td id=\"T_f604c_row2_col0\" class=\"data row2 col0\" >39</td>\n",
       "      <td id=\"T_f604c_row2_col1\" class=\"data row2 col1\" >45</td>\n",
       "      <td id=\"T_f604c_row2_col2\" class=\"data row2 col2\" >75</td>\n",
       "    </tr>\n",
       "    <tr>\n",
       "      <th id=\"T_f604c_level0_row3\" class=\"row_heading level0 row3\" >3</th>\n",
       "      <td id=\"T_f604c_row3_col0\" class=\"data row3 col0\" >9</td>\n",
       "      <td id=\"T_f604c_row3_col1\" class=\"data row3 col1\" >20</td>\n",
       "      <td id=\"T_f604c_row3_col2\" class=\"data row3 col2\" >14</td>\n",
       "    </tr>\n",
       "    <tr>\n",
       "      <th id=\"T_f604c_level0_row4\" class=\"row_heading level0 row4\" >4</th>\n",
       "      <td id=\"T_f604c_row4_col0\" class=\"data row4 col0\" >5</td>\n",
       "      <td id=\"T_f604c_row4_col1\" class=\"data row4 col1\" >1</td>\n",
       "      <td id=\"T_f604c_row4_col2\" class=\"data row4 col2\" >16</td>\n",
       "    </tr>\n",
       "    <tr>\n",
       "      <th id=\"T_f604c_level0_row5\" class=\"row_heading level0 row5\" >5</th>\n",
       "      <td id=\"T_f604c_row5_col0\" class=\"data row5 col0\" >6</td>\n",
       "      <td id=\"T_f604c_row5_col1\" class=\"data row5 col1\" >1</td>\n",
       "      <td id=\"T_f604c_row5_col2\" class=\"data row5 col2\" >18</td>\n",
       "    </tr>\n",
       "    <tr>\n",
       "      <th id=\"T_f604c_level0_row6\" class=\"row_heading level0 row6\" >6</th>\n",
       "      <td id=\"T_f604c_row6_col0\" class=\"data row6 col0\" >0</td>\n",
       "      <td id=\"T_f604c_row6_col1\" class=\"data row6 col1\" >0</td>\n",
       "      <td id=\"T_f604c_row6_col2\" class=\"data row6 col2\" >16</td>\n",
       "    </tr>\n",
       "    <tr>\n",
       "      <th id=\"T_f604c_level0_row7\" class=\"row_heading level0 row7\" >7</th>\n",
       "      <td id=\"T_f604c_row7_col0\" class=\"data row7 col0\" >0</td>\n",
       "      <td id=\"T_f604c_row7_col1\" class=\"data row7 col1\" >0</td>\n",
       "      <td id=\"T_f604c_row7_col2\" class=\"data row7 col2\" >8</td>\n",
       "    </tr>\n",
       "    <tr>\n",
       "      <th id=\"T_f604c_level0_row8\" class=\"row_heading level0 row8\" >10</th>\n",
       "      <td id=\"T_f604c_row8_col0\" class=\"data row8 col0\" >0</td>\n",
       "      <td id=\"T_f604c_row8_col1\" class=\"data row8 col1\" >0</td>\n",
       "      <td id=\"T_f604c_row8_col2\" class=\"data row8 col2\" >11</td>\n",
       "    </tr>\n",
       "  </tbody>\n",
       "</table>\n"
      ],
      "text/plain": [
       "<pandas.io.formats.style.Styler at 0x7ffc83461720>"
      ]
     },
     "execution_count": 570,
     "metadata": {},
     "output_type": "execute_result"
    }
   ],
   "source": [
    "pd.crosstab(all_data.Family_Size, all_data.Pclass).style.background_gradient(cmap='YlOrRd')\n"
   ]
  },
  {
   "cell_type": "code",
   "execution_count": 571,
   "id": "2696662c-7130-47f9-8e7e-b7895814387e",
   "metadata": {},
   "outputs": [
    {
     "data": {
      "image/png": "[encoded data removed]",
      "text/plain": [
       "<Figure size 569.375x500 with 1 Axes>"
      ]
     },
     "metadata": {},
     "output_type": "display_data"
    }
   ],
   "source": [
    "sns.catplot(data=all_data, x='Family_Size', kind='count', hue='Survived',palette='deep')\n",
    "plt.title(\"The dependence of survival on Family_Size\")\n",
    "plt.show()"
   ]
  },
  {
   "cell_type": "markdown",
   "id": "5ea2ddef-ba76-4014-8f93-67c43ee35d06",
   "metadata": {},
   "source": [
    "Family_Size=0 means that the passenger is alone. Clearly, if you are alone or family_size=0,then chances for survival is very low. For family size > 4,the chances decrease too. This also looks to be an important feature for the model."
   ]
  },
  {
   "cell_type": "markdown",
   "id": "c286b288-0b20-4b7a-84e3-d94a55a8dcbf",
   "metadata": {},
   "source": [
    "### Fare\n"
   ]
  },
  {
   "cell_type": "code",
   "execution_count": 572,
   "id": "98018655-9fd1-4ef0-8d63-1e32678831a9",
   "metadata": {},
   "outputs": [],
   "source": [
    "all_data['Fare'] = pd.qcut(all_data['Fare'], 14, duplicates='drop')"
   ]
  },
  {
   "cell_type": "code",
   "execution_count": 573,
   "id": "b38097db-cfef-4e3f-b4f5-e5a7ae18123f",
   "metadata": {},
   "outputs": [
    {
     "data": {
      "text/plain": [
       "(7.879, 8.05]       135\n",
       "(19.258, 26.0]      134\n",
       "(7.229, 7.75]       111\n",
       "(-0.001, 7.229]      99\n",
       "(27.793, 39.0]       98\n",
       "(12.816, 14.454]     97\n",
       "(59.4, 90.0]         96\n",
       "(9.35, 12.816]       91\n",
       "(14.454, 19.258]     91\n",
       "(39.0, 59.4]         90\n",
       "(90.0, 512.329]      90\n",
       "(7.75, 7.879]        77\n",
       "(26.0, 27.793]       52\n",
       "(8.05, 9.35]         48\n",
       "Name: Fare, dtype: int64"
      ]
     },
     "execution_count": 573,
     "metadata": {},
     "output_type": "execute_result"
    }
   ],
   "source": [
    "all_data['Fare'].value_counts()"
   ]
  },
  {
   "cell_type": "code",
   "execution_count": 574,
   "id": "b0d985ad-891d-4379-aa4a-b25cc55e4511",
   "metadata": {},
   "outputs": [
    {
     "data": {
      "text/html": [
       "<style type=\"text/css\">\n",
       "#T_f0498_row0_col0 {\n",
       "  background-color: #f94828;\n",
       "  color: #f1f1f1;\n",
       "}\n",
       "#T_f0498_row0_col1 {\n",
       "  background-color: #ffec9f;\n",
       "  color: #000000;\n",
       "}\n",
       "#T_f0498_row1_col0 {\n",
       "  background-color: #fd863a;\n",
       "  color: #f1f1f1;\n",
       "}\n",
       "#T_f0498_row1_col1 {\n",
       "  background-color: #feb44e;\n",
       "  color: #000000;\n",
       "}\n",
       "#T_f0498_row2_col0, #T_f0498_row11_col0 {\n",
       "  background-color: #fede80;\n",
       "  color: #000000;\n",
       "}\n",
       "#T_f0498_row2_col1 {\n",
       "  background-color: #fedb7b;\n",
       "  color: #000000;\n",
       "}\n",
       "#T_f0498_row3_col0, #T_f0498_row13_col1 {\n",
       "  background-color: #800026;\n",
       "  color: #f1f1f1;\n",
       "}\n",
       "#T_f0498_row3_col1 {\n",
       "  background-color: #fed572;\n",
       "  color: #000000;\n",
       "}\n",
       "#T_f0498_row4_col0 {\n",
       "  background-color: #fee289;\n",
       "  color: #000000;\n",
       "}\n",
       "#T_f0498_row4_col1, #T_f0498_row13_col0 {\n",
       "  background-color: #ffffcc;\n",
       "  color: #000000;\n",
       "}\n",
       "#T_f0498_row5_col0, #T_f0498_row6_col0 {\n",
       "  background-color: #feb651;\n",
       "  color: #000000;\n",
       "}\n",
       "#T_f0498_row5_col1 {\n",
       "  background-color: #fc6430;\n",
       "  color: #f1f1f1;\n",
       "}\n",
       "#T_f0498_row6_col1 {\n",
       "  background-color: #fd9d43;\n",
       "  color: #000000;\n",
       "}\n",
       "#T_f0498_row7_col0 {\n",
       "  background-color: #fecc68;\n",
       "  color: #000000;\n",
       "}\n",
       "#T_f0498_row7_col1, #T_f0498_row10_col1 {\n",
       "  background-color: #fb4b29;\n",
       "  color: #f1f1f1;\n",
       "}\n",
       "#T_f0498_row8_col0 {\n",
       "  background-color: #fd913e;\n",
       "  color: #000000;\n",
       "}\n",
       "#T_f0498_row8_col1 {\n",
       "  background-color: #cf0c21;\n",
       "  color: #f1f1f1;\n",
       "}\n",
       "#T_f0498_row9_col0 {\n",
       "  background-color: #fffbc2;\n",
       "  color: #000000;\n",
       "}\n",
       "#T_f0498_row9_col1 {\n",
       "  background-color: #fea546;\n",
       "  color: #000000;\n",
       "}\n",
       "#T_f0498_row10_col0 {\n",
       "  background-color: #fea647;\n",
       "  color: #000000;\n",
       "}\n",
       "#T_f0498_row11_col1 {\n",
       "  background-color: #e61f1d;\n",
       "  color: #f1f1f1;\n",
       "}\n",
       "#T_f0498_row12_col0 {\n",
       "  background-color: #ffe793;\n",
       "  color: #000000;\n",
       "}\n",
       "#T_f0498_row12_col1 {\n",
       "  background-color: #b20026;\n",
       "  color: #f1f1f1;\n",
       "}\n",
       "</style>\n",
       "<table id=\"T_f0498\">\n",
       "  <thead>\n",
       "    <tr>\n",
       "      <th class=\"index_name level0\" >Survived</th>\n",
       "      <th id=\"T_f0498_level0_col0\" class=\"col_heading level0 col0\" >0.000000</th>\n",
       "      <th id=\"T_f0498_level0_col1\" class=\"col_heading level0 col1\" >1.000000</th>\n",
       "    </tr>\n",
       "    <tr>\n",
       "      <th class=\"index_name level0\" >Fare</th>\n",
       "      <th class=\"blank col0\" >&nbsp;</th>\n",
       "      <th class=\"blank col1\" >&nbsp;</th>\n",
       "    </tr>\n",
       "  </thead>\n",
       "  <tbody>\n",
       "    <tr>\n",
       "      <th id=\"T_f0498_level0_row0\" class=\"row_heading level0 row0\" >(-0.001, 7.229]</th>\n",
       "      <td id=\"T_f0498_row0_col0\" class=\"data row0 col0\" >60</td>\n",
       "      <td id=\"T_f0498_row0_col1\" class=\"data row0 col1\" >10</td>\n",
       "    </tr>\n",
       "    <tr>\n",
       "      <th id=\"T_f0498_level0_row1\" class=\"row_heading level0 row1\" >(7.229, 7.75]</th>\n",
       "      <td id=\"T_f0498_row1_col0\" class=\"data row1 col0\" >51</td>\n",
       "      <td id=\"T_f0498_row1_col1\" class=\"data row1 col1\" >19</td>\n",
       "    </tr>\n",
       "    <tr>\n",
       "      <th id=\"T_f0498_level0_row2\" class=\"row_heading level0 row2\" >(7.75, 7.879]</th>\n",
       "      <td id=\"T_f0498_row2_col0\" class=\"data row2 col0\" >30</td>\n",
       "      <td id=\"T_f0498_row2_col1\" class=\"data row2 col1\" >14</td>\n",
       "    </tr>\n",
       "    <tr>\n",
       "      <th id=\"T_f0498_level0_row3\" class=\"row_heading level0 row3\" >(7.879, 8.05]</th>\n",
       "      <td id=\"T_f0498_row3_col0\" class=\"data row3 col0\" >86</td>\n",
       "      <td id=\"T_f0498_row3_col1\" class=\"data row3 col1\" >15</td>\n",
       "    </tr>\n",
       "    <tr>\n",
       "      <th id=\"T_f0498_level0_row4\" class=\"row_heading level0 row4\" >(8.05, 9.35]</th>\n",
       "      <td id=\"T_f0498_row4_col0\" class=\"data row4 col0\" >28</td>\n",
       "      <td id=\"T_f0498_row4_col1\" class=\"data row4 col1\" >5</td>\n",
       "    </tr>\n",
       "    <tr>\n",
       "      <th id=\"T_f0498_level0_row5\" class=\"row_heading level0 row5\" >(9.35, 12.816]</th>\n",
       "      <td id=\"T_f0498_row5_col0\" class=\"data row5 col0\" >40</td>\n",
       "      <td id=\"T_f0498_row5_col1\" class=\"data row5 col1\" >27</td>\n",
       "    </tr>\n",
       "    <tr>\n",
       "      <th id=\"T_f0498_level0_row6\" class=\"row_heading level0 row6\" >(12.816, 14.454]</th>\n",
       "      <td id=\"T_f0498_row6_col0\" class=\"data row6 col0\" >40</td>\n",
       "      <td id=\"T_f0498_row6_col1\" class=\"data row6 col1\" >22</td>\n",
       "    </tr>\n",
       "    <tr>\n",
       "      <th id=\"T_f0498_level0_row7\" class=\"row_heading level0 row7\" >(14.454, 19.258]</th>\n",
       "      <td id=\"T_f0498_row7_col0\" class=\"data row7 col0\" >35</td>\n",
       "      <td id=\"T_f0498_row7_col1\" class=\"data row7 col1\" >29</td>\n",
       "    </tr>\n",
       "    <tr>\n",
       "      <th id=\"T_f0498_level0_row8\" class=\"row_heading level0 row8\" >(19.258, 26.0]</th>\n",
       "      <td id=\"T_f0498_row8_col0\" class=\"data row8 col0\" >49</td>\n",
       "      <td id=\"T_f0498_row8_col1\" class=\"data row8 col1\" >36</td>\n",
       "    </tr>\n",
       "    <tr>\n",
       "      <th id=\"T_f0498_level0_row9\" class=\"row_heading level0 row9\" >(26.0, 27.793]</th>\n",
       "      <td id=\"T_f0498_row9_col0\" class=\"data row9 col0\" >16</td>\n",
       "      <td id=\"T_f0498_row9_col1\" class=\"data row9 col1\" >21</td>\n",
       "    </tr>\n",
       "    <tr>\n",
       "      <th id=\"T_f0498_level0_row10\" class=\"row_heading level0 row10\" >(27.793, 39.0]</th>\n",
       "      <td id=\"T_f0498_row10_col0\" class=\"data row10 col0\" >44</td>\n",
       "      <td id=\"T_f0498_row10_col1\" class=\"data row10 col1\" >29</td>\n",
       "    </tr>\n",
       "    <tr>\n",
       "      <th id=\"T_f0498_level0_row11\" class=\"row_heading level0 row11\" >(39.0, 59.4]</th>\n",
       "      <td id=\"T_f0498_row11_col0\" class=\"data row11 col0\" >30</td>\n",
       "      <td id=\"T_f0498_row11_col1\" class=\"data row11 col1\" >33</td>\n",
       "    </tr>\n",
       "    <tr>\n",
       "      <th id=\"T_f0498_level0_row12\" class=\"row_heading level0 row12\" >(59.4, 90.0]</th>\n",
       "      <td id=\"T_f0498_row12_col0\" class=\"data row12 col0\" >26</td>\n",
       "      <td id=\"T_f0498_row12_col1\" class=\"data row12 col1\" >39</td>\n",
       "    </tr>\n",
       "    <tr>\n",
       "      <th id=\"T_f0498_level0_row13\" class=\"row_heading level0 row13\" >(90.0, 512.329]</th>\n",
       "      <td id=\"T_f0498_row13_col0\" class=\"data row13 col0\" >14</td>\n",
       "      <td id=\"T_f0498_row13_col1\" class=\"data row13 col1\" >43</td>\n",
       "    </tr>\n",
       "  </tbody>\n",
       "</table>\n"
      ],
      "text/plain": [
       "<pandas.io.formats.style.Styler at 0x7ffc83460340>"
      ]
     },
     "execution_count": 574,
     "metadata": {},
     "output_type": "execute_result"
    }
   ],
   "source": [
    "pd.crosstab([all_data.Fare], all_data.Survived).style.background_gradient(cmap='YlOrRd')"
   ]
  },
  {
   "cell_type": "code",
   "execution_count": 575,
   "id": "84ab3c62-daca-470d-8ef4-e74b149c5e20",
   "metadata": {},
   "outputs": [
    {
     "data": {
      "image/png": "[encoded data removed]",
      "text/plain": [
       "<Figure size 2200x900 with 1 Axes>"
      ]
     },
     "metadata": {},
     "output_type": "display_data"
    }
   ],
   "source": [
    "fig, axs = plt.subplots(figsize=(22, 9))\n",
    "sns.countplot(x='Fare', hue='Survived', data=all_data)\n",
    "\n",
    "plt.xlabel('Fare', size=15, labelpad=20)\n",
    "plt.ylabel('Passenger Count', size=15, labelpad=20)\n",
    "plt.tick_params(axis='x', labelsize=10)\n",
    "plt.tick_params(axis='y', labelsize=15)\n",
    "\n",
    "plt.legend(['Not Survived', 'Survived'], loc='upper right', prop={'size': 15})\n",
    "plt.title('Count of Survival in {} Feature'.format('Fare'), size=15, y=1.05)\n",
    "\n",
    "plt.show()"
   ]
  },
  {
   "cell_type": "markdown",
   "id": "fe0361f1-da1f-4add-b8ab-e4ae074d98a1",
   "metadata": {},
   "source": [
    "Analyzing the schedule, we can see that the higher the ticket price, the higher the passenger's survival rate."
   ]
  },
  {
   "cell_type": "code",
   "execution_count": 576,
   "id": "0248e775-d603-4636-986b-36992e6a982b",
   "metadata": {},
   "outputs": [
    {
     "data": {
      "text/html": [
       "<div>\n",
       "<style scoped>\n",
       "    .dataframe tbody tr th:only-of-type {\n",
       "        vertical-align: middle;\n",
       "    }\n",
       "\n",
       "    .dataframe tbody tr th {\n",
       "        vertical-align: top;\n",
       "    }\n",
       "\n",
       "    .dataframe thead th {\n",
       "        text-align: right;\n",
       "    }\n",
       "</style>\n",
       "<table border=\"1\" class=\"dataframe\">\n",
       "  <thead>\n",
       "    <tr style=\"text-align: right;\">\n",
       "      <th></th>\n",
       "      <th>Age</th>\n",
       "      <th>Embarked</th>\n",
       "      <th>Fare</th>\n",
       "      <th>Name</th>\n",
       "      <th>Parch</th>\n",
       "      <th>PassengerId</th>\n",
       "      <th>Pclass</th>\n",
       "      <th>Sex</th>\n",
       "      <th>SibSp</th>\n",
       "      <th>Survived</th>\n",
       "      <th>Ticket</th>\n",
       "      <th>Initial</th>\n",
       "      <th>Family_Size</th>\n",
       "      <th>Alone</th>\n",
       "    </tr>\n",
       "  </thead>\n",
       "  <tbody>\n",
       "    <tr>\n",
       "      <th>0</th>\n",
       "      <td>(21.0, 22.7]</td>\n",
       "      <td>S</td>\n",
       "      <td>(7.229, 7.75]</td>\n",
       "      <td>Braund, Mr. Owen Harris</td>\n",
       "      <td>0</td>\n",
       "      <td>1</td>\n",
       "      <td>3</td>\n",
       "      <td>male</td>\n",
       "      <td>1</td>\n",
       "      <td>0.0</td>\n",
       "      <td>A/5 21171</td>\n",
       "      <td>Mr</td>\n",
       "      <td>1</td>\n",
       "      <td>0</td>\n",
       "    </tr>\n",
       "    <tr>\n",
       "      <th>1</th>\n",
       "      <td>(33.0, 39.0]</td>\n",
       "      <td>C</td>\n",
       "      <td>(59.4, 90.0]</td>\n",
       "      <td>Cumings, Mrs. John Bradley (Florence Briggs Th...</td>\n",
       "      <td>0</td>\n",
       "      <td>2</td>\n",
       "      <td>1</td>\n",
       "      <td>female</td>\n",
       "      <td>1</td>\n",
       "      <td>1.0</td>\n",
       "      <td>PC 17599</td>\n",
       "      <td>Mrs</td>\n",
       "      <td>1</td>\n",
       "      <td>0</td>\n",
       "    </tr>\n",
       "  </tbody>\n",
       "</table>\n",
       "</div>"
      ],
      "text/plain": [
       "            Age Embarked           Fare  \\\n",
       "0  (21.0, 22.7]        S  (7.229, 7.75]   \n",
       "1  (33.0, 39.0]        C   (59.4, 90.0]   \n",
       "\n",
       "                                                Name  Parch  PassengerId  \\\n",
       "0                            Braund, Mr. Owen Harris      0            1   \n",
       "1  Cumings, Mrs. John Bradley (Florence Briggs Th...      0            2   \n",
       "\n",
       "   Pclass     Sex  SibSp  Survived     Ticket Initial  Family_Size  Alone  \n",
       "0       3    male      1       0.0  A/5 21171      Mr            1      0  \n",
       "1       1  female      1       1.0   PC 17599     Mrs            1      0  "
      ]
     },
     "execution_count": 576,
     "metadata": {},
     "output_type": "execute_result"
    }
   ],
   "source": [
    "all_data.head(2)"
   ]
  },
  {
   "cell_type": "markdown",
   "id": "0d9f6f2c-fa64-4b58-8933-d6892b42cd82",
   "metadata": {},
   "source": [
    "### Removing unnecessary features"
   ]
  },
  {
   "cell_type": "markdown",
   "id": "1f4413f3-60f1-4b8d-92b0-a1ee4dbab9ed",
   "metadata": {},
   "source": [
    "* `Ticket`feature may be dropped from our analysis as it contains high ratio of duplicates (22%) and there may not be a correlation between Ticket and survival. \n",
    "\n",
    "* `PassengerId` may be dropped from training dataset as it does not contribute to survival. This feature, on the contrary, can worsen learning.\n",
    "\n",
    "* `Name` may be dropped from training dataset as it does not contribute to survival.\n",
    "\n",
    "* `Parch` and `SibSp` we used to form other features `Family_Size` and `Alone`"
   ]
  },
  {
   "cell_type": "code",
   "execution_count": 577,
   "id": "64e5772b-be5a-44ba-8531-5fe2b1a7b04e",
   "metadata": {},
   "outputs": [
    {
     "data": {
      "text/html": [
       "<div>\n",
       "<style scoped>\n",
       "    .dataframe tbody tr th:only-of-type {\n",
       "        vertical-align: middle;\n",
       "    }\n",
       "\n",
       "    .dataframe tbody tr th {\n",
       "        vertical-align: top;\n",
       "    }\n",
       "\n",
       "    .dataframe thead th {\n",
       "        text-align: right;\n",
       "    }\n",
       "</style>\n",
       "<table border=\"1\" class=\"dataframe\">\n",
       "  <thead>\n",
       "    <tr style=\"text-align: right;\">\n",
       "      <th></th>\n",
       "      <th>Age</th>\n",
       "      <th>Embarked</th>\n",
       "      <th>Fare</th>\n",
       "      <th>Pclass</th>\n",
       "      <th>Sex</th>\n",
       "      <th>Survived</th>\n",
       "      <th>Initial</th>\n",
       "      <th>Family_Size</th>\n",
       "      <th>Alone</th>\n",
       "    </tr>\n",
       "  </thead>\n",
       "  <tbody>\n",
       "    <tr>\n",
       "      <th>0</th>\n",
       "      <td>(21.0, 22.7]</td>\n",
       "      <td>S</td>\n",
       "      <td>(7.229, 7.75]</td>\n",
       "      <td>3</td>\n",
       "      <td>male</td>\n",
       "      <td>0.0</td>\n",
       "      <td>Mr</td>\n",
       "      <td>1</td>\n",
       "      <td>0</td>\n",
       "    </tr>\n",
       "    <tr>\n",
       "      <th>1</th>\n",
       "      <td>(33.0, 39.0]</td>\n",
       "      <td>C</td>\n",
       "      <td>(59.4, 90.0]</td>\n",
       "      <td>1</td>\n",
       "      <td>female</td>\n",
       "      <td>1.0</td>\n",
       "      <td>Mrs</td>\n",
       "      <td>1</td>\n",
       "      <td>0</td>\n",
       "    </tr>\n",
       "    <tr>\n",
       "      <th>2</th>\n",
       "      <td>(22.7, 26.0]</td>\n",
       "      <td>S</td>\n",
       "      <td>(7.879, 8.05]</td>\n",
       "      <td>3</td>\n",
       "      <td>female</td>\n",
       "      <td>1.0</td>\n",
       "      <td>Miss</td>\n",
       "      <td>0</td>\n",
       "      <td>1</td>\n",
       "    </tr>\n",
       "  </tbody>\n",
       "</table>\n",
       "</div>"
      ],
      "text/plain": [
       "            Age Embarked           Fare  Pclass     Sex  Survived Initial  \\\n",
       "0  (21.0, 22.7]        S  (7.229, 7.75]       3    male       0.0      Mr   \n",
       "1  (33.0, 39.0]        C   (59.4, 90.0]       1  female       1.0     Mrs   \n",
       "2  (22.7, 26.0]        S  (7.879, 8.05]       3  female       1.0    Miss   \n",
       "\n",
       "   Family_Size  Alone  \n",
       "0            1      0  \n",
       "1            1      0  \n",
       "2            0      1  "
      ]
     },
     "execution_count": 577,
     "metadata": {},
     "output_type": "execute_result"
    }
   ],
   "source": [
    "drop_cols = ['Name', 'PassengerId', 'Ticket', 'Parch', 'SibSp']\n",
    "\n",
    "all_data.drop(columns=drop_cols, inplace=True)\n",
    "\n",
    "all_data.head(3)"
   ]
  },
  {
   "cell_type": "code",
   "execution_count": 578,
   "id": "3cf839fb-4166-4043-aa1c-e0c9029c6d95",
   "metadata": {},
   "outputs": [],
   "source": [
    "train_data, test_data = divide_df(all_data)"
   ]
  },
  {
   "cell_type": "code",
   "execution_count": 579,
   "id": "3905e09c-f9a0-4e81-bda1-8d060090eb01",
   "metadata": {},
   "outputs": [
    {
     "data": {
      "text/html": [
       "<div>\n",
       "<style scoped>\n",
       "    .dataframe tbody tr th:only-of-type {\n",
       "        vertical-align: middle;\n",
       "    }\n",
       "\n",
       "    .dataframe tbody tr th {\n",
       "        vertical-align: top;\n",
       "    }\n",
       "\n",
       "    .dataframe thead th {\n",
       "        text-align: right;\n",
       "    }\n",
       "</style>\n",
       "<table border=\"1\" class=\"dataframe\">\n",
       "  <thead>\n",
       "    <tr style=\"text-align: right;\">\n",
       "      <th></th>\n",
       "      <th>Age</th>\n",
       "      <th>Embarked</th>\n",
       "      <th>Fare</th>\n",
       "      <th>Pclass</th>\n",
       "      <th>Sex</th>\n",
       "      <th>Survived</th>\n",
       "      <th>Initial</th>\n",
       "      <th>Family_Size</th>\n",
       "      <th>Alone</th>\n",
       "    </tr>\n",
       "  </thead>\n",
       "  <tbody>\n",
       "    <tr>\n",
       "      <th>0</th>\n",
       "      <td>(21.0, 22.7]</td>\n",
       "      <td>S</td>\n",
       "      <td>(7.229, 7.75]</td>\n",
       "      <td>3</td>\n",
       "      <td>male</td>\n",
       "      <td>0.0</td>\n",
       "      <td>Mr</td>\n",
       "      <td>1</td>\n",
       "      <td>0</td>\n",
       "    </tr>\n",
       "    <tr>\n",
       "      <th>1</th>\n",
       "      <td>(33.0, 39.0]</td>\n",
       "      <td>C</td>\n",
       "      <td>(59.4, 90.0]</td>\n",
       "      <td>1</td>\n",
       "      <td>female</td>\n",
       "      <td>1.0</td>\n",
       "      <td>Mrs</td>\n",
       "      <td>1</td>\n",
       "      <td>0</td>\n",
       "    </tr>\n",
       "    <tr>\n",
       "      <th>2</th>\n",
       "      <td>(22.7, 26.0]</td>\n",
       "      <td>S</td>\n",
       "      <td>(7.879, 8.05]</td>\n",
       "      <td>3</td>\n",
       "      <td>female</td>\n",
       "      <td>1.0</td>\n",
       "      <td>Miss</td>\n",
       "      <td>0</td>\n",
       "      <td>1</td>\n",
       "    </tr>\n",
       "  </tbody>\n",
       "</table>\n",
       "</div>"
      ],
      "text/plain": [
       "            Age Embarked           Fare  Pclass     Sex  Survived Initial  \\\n",
       "0  (21.0, 22.7]        S  (7.229, 7.75]       3    male       0.0      Mr   \n",
       "1  (33.0, 39.0]        C   (59.4, 90.0]       1  female       1.0     Mrs   \n",
       "2  (22.7, 26.0]        S  (7.879, 8.05]       3  female       1.0    Miss   \n",
       "\n",
       "   Family_Size  Alone  \n",
       "0            1      0  \n",
       "1            1      0  \n",
       "2            0      1  "
      ]
     },
     "execution_count": 579,
     "metadata": {},
     "output_type": "execute_result"
    }
   ],
   "source": [
    "train_data.head(3)"
   ]
  },
  {
   "cell_type": "code",
   "execution_count": 580,
   "id": "1a3e00d3-3413-4313-bada-f11ef92c0a3e",
   "metadata": {},
   "outputs": [
    {
     "data": {
      "text/html": [
       "<div>\n",
       "<style scoped>\n",
       "    .dataframe tbody tr th:only-of-type {\n",
       "        vertical-align: middle;\n",
       "    }\n",
       "\n",
       "    .dataframe tbody tr th {\n",
       "        vertical-align: top;\n",
       "    }\n",
       "\n",
       "    .dataframe thead th {\n",
       "        text-align: right;\n",
       "    }\n",
       "</style>\n",
       "<table border=\"1\" class=\"dataframe\">\n",
       "  <thead>\n",
       "    <tr style=\"text-align: right;\">\n",
       "      <th></th>\n",
       "      <th>Age</th>\n",
       "      <th>Embarked</th>\n",
       "      <th>Fare</th>\n",
       "      <th>Pclass</th>\n",
       "      <th>Sex</th>\n",
       "      <th>Initial</th>\n",
       "      <th>Family_Size</th>\n",
       "      <th>Alone</th>\n",
       "    </tr>\n",
       "  </thead>\n",
       "  <tbody>\n",
       "    <tr>\n",
       "      <th>891</th>\n",
       "      <td>(33.0, 39.0]</td>\n",
       "      <td>Q</td>\n",
       "      <td>(7.75, 7.879]</td>\n",
       "      <td>3</td>\n",
       "      <td>male</td>\n",
       "      <td>Mr</td>\n",
       "      <td>0</td>\n",
       "      <td>1</td>\n",
       "    </tr>\n",
       "    <tr>\n",
       "      <th>892</th>\n",
       "      <td>(39.0, 48.0]</td>\n",
       "      <td>S</td>\n",
       "      <td>(-0.001, 7.229]</td>\n",
       "      <td>3</td>\n",
       "      <td>female</td>\n",
       "      <td>Mrs</td>\n",
       "      <td>1</td>\n",
       "      <td>0</td>\n",
       "    </tr>\n",
       "    <tr>\n",
       "      <th>893</th>\n",
       "      <td>(48.0, 80.0]</td>\n",
       "      <td>Q</td>\n",
       "      <td>(9.35, 12.816]</td>\n",
       "      <td>2</td>\n",
       "      <td>male</td>\n",
       "      <td>Mr</td>\n",
       "      <td>0</td>\n",
       "      <td>1</td>\n",
       "    </tr>\n",
       "  </tbody>\n",
       "</table>\n",
       "</div>"
      ],
      "text/plain": [
       "              Age Embarked             Fare  Pclass     Sex Initial  \\\n",
       "891  (33.0, 39.0]        Q    (7.75, 7.879]       3    male      Mr   \n",
       "892  (39.0, 48.0]        S  (-0.001, 7.229]       3  female     Mrs   \n",
       "893  (48.0, 80.0]        Q   (9.35, 12.816]       2    male      Mr   \n",
       "\n",
       "     Family_Size  Alone  \n",
       "891            0      1  \n",
       "892            1      0  \n",
       "893            0      1  "
      ]
     },
     "execution_count": 580,
     "metadata": {},
     "output_type": "execute_result"
    }
   ],
   "source": [
    "test_data.head(3)"
   ]
  },
  {
   "cell_type": "code",
   "execution_count": 581,
   "id": "bc9c8270-8a49-413b-bbe6-a1e5fdb25905",
   "metadata": {},
   "outputs": [],
   "source": [
    "categorical_features = ['Embarked', 'Pclass', 'Sex', 'Initial', 'Alone', 'Age', 'Fare']\n",
    "numeric_features = ['Family_Size']\n",
    "encoded_features = []\n",
    "\n",
    "dfs = [train_data, test_data]\n",
    "\n",
    "for df in dfs:\n",
    "    for feature in categorical_features:\n",
    "        encoded_feat = OneHotEncoder().fit_transform(df[feature].values.reshape(-1, 1)).toarray()\n",
    "        n = df[feature].nunique()\n",
    "        cols = ['{}_{}'.format(feature, n) for n in range(1, n + 1)]\n",
    "        encoded_df = pd.DataFrame(encoded_feat, columns=cols)\n",
    "        encoded_df.index = df.index\n",
    "        encoded_features.append(encoded_df)\n",
    "\n",
    "train_data = pd.concat([train_data, *encoded_features[:7]], axis=1)\n",
    "test_data = pd.concat([test_data, *encoded_features[7:]], axis=1)"
   ]
  },
  {
   "cell_type": "code",
   "execution_count": 582,
   "id": "8586a6a8-c114-4686-92f6-c680d3b7f762",
   "metadata": {},
   "outputs": [
    {
     "data": {
      "text/html": [
       "<div>\n",
       "<style scoped>\n",
       "    .dataframe tbody tr th:only-of-type {\n",
       "        vertical-align: middle;\n",
       "    }\n",
       "\n",
       "    .dataframe tbody tr th {\n",
       "        vertical-align: top;\n",
       "    }\n",
       "\n",
       "    .dataframe thead th {\n",
       "        text-align: right;\n",
       "    }\n",
       "</style>\n",
       "<table border=\"1\" class=\"dataframe\">\n",
       "  <thead>\n",
       "    <tr style=\"text-align: right;\">\n",
       "      <th></th>\n",
       "      <th>Age</th>\n",
       "      <th>Embarked</th>\n",
       "      <th>Fare</th>\n",
       "      <th>Pclass</th>\n",
       "      <th>Sex</th>\n",
       "      <th>Survived</th>\n",
       "      <th>Initial</th>\n",
       "      <th>Family_Size</th>\n",
       "      <th>Alone</th>\n",
       "      <th>Embarked_1</th>\n",
       "      <th>...</th>\n",
       "      <th>Fare_5</th>\n",
       "      <th>Fare_6</th>\n",
       "      <th>Fare_7</th>\n",
       "      <th>Fare_8</th>\n",
       "      <th>Fare_9</th>\n",
       "      <th>Fare_10</th>\n",
       "      <th>Fare_11</th>\n",
       "      <th>Fare_12</th>\n",
       "      <th>Fare_13</th>\n",
       "      <th>Fare_14</th>\n",
       "    </tr>\n",
       "  </thead>\n",
       "  <tbody>\n",
       "    <tr>\n",
       "      <th>0</th>\n",
       "      <td>(21.0, 22.7]</td>\n",
       "      <td>S</td>\n",
       "      <td>(7.229, 7.75]</td>\n",
       "      <td>3</td>\n",
       "      <td>male</td>\n",
       "      <td>0.0</td>\n",
       "      <td>Mr</td>\n",
       "      <td>1</td>\n",
       "      <td>0</td>\n",
       "      <td>0.0</td>\n",
       "      <td>...</td>\n",
       "      <td>0.0</td>\n",
       "      <td>0.0</td>\n",
       "      <td>0.0</td>\n",
       "      <td>0.0</td>\n",
       "      <td>0.0</td>\n",
       "      <td>0.0</td>\n",
       "      <td>0.0</td>\n",
       "      <td>0.0</td>\n",
       "      <td>0.0</td>\n",
       "      <td>0.0</td>\n",
       "    </tr>\n",
       "    <tr>\n",
       "      <th>1</th>\n",
       "      <td>(33.0, 39.0]</td>\n",
       "      <td>C</td>\n",
       "      <td>(59.4, 90.0]</td>\n",
       "      <td>1</td>\n",
       "      <td>female</td>\n",
       "      <td>1.0</td>\n",
       "      <td>Mrs</td>\n",
       "      <td>1</td>\n",
       "      <td>0</td>\n",
       "      <td>1.0</td>\n",
       "      <td>...</td>\n",
       "      <td>0.0</td>\n",
       "      <td>0.0</td>\n",
       "      <td>0.0</td>\n",
       "      <td>0.0</td>\n",
       "      <td>0.0</td>\n",
       "      <td>0.0</td>\n",
       "      <td>0.0</td>\n",
       "      <td>0.0</td>\n",
       "      <td>1.0</td>\n",
       "      <td>0.0</td>\n",
       "    </tr>\n",
       "    <tr>\n",
       "      <th>2</th>\n",
       "      <td>(22.7, 26.0]</td>\n",
       "      <td>S</td>\n",
       "      <td>(7.879, 8.05]</td>\n",
       "      <td>3</td>\n",
       "      <td>female</td>\n",
       "      <td>1.0</td>\n",
       "      <td>Miss</td>\n",
       "      <td>0</td>\n",
       "      <td>1</td>\n",
       "      <td>0.0</td>\n",
       "      <td>...</td>\n",
       "      <td>0.0</td>\n",
       "      <td>0.0</td>\n",
       "      <td>0.0</td>\n",
       "      <td>0.0</td>\n",
       "      <td>0.0</td>\n",
       "      <td>0.0</td>\n",
       "      <td>0.0</td>\n",
       "      <td>0.0</td>\n",
       "      <td>0.0</td>\n",
       "      <td>0.0</td>\n",
       "    </tr>\n",
       "  </tbody>\n",
       "</table>\n",
       "<p>3 rows × 47 columns</p>\n",
       "</div>"
      ],
      "text/plain": [
       "            Age Embarked           Fare  Pclass     Sex  Survived Initial  \\\n",
       "0  (21.0, 22.7]        S  (7.229, 7.75]       3    male       0.0      Mr   \n",
       "1  (33.0, 39.0]        C   (59.4, 90.0]       1  female       1.0     Mrs   \n",
       "2  (22.7, 26.0]        S  (7.879, 8.05]       3  female       1.0    Miss   \n",
       "\n",
       "   Family_Size  Alone  Embarked_1  ...  Fare_5  Fare_6  Fare_7  Fare_8  \\\n",
       "0            1      0         0.0  ...     0.0     0.0     0.0     0.0   \n",
       "1            1      0         1.0  ...     0.0     0.0     0.0     0.0   \n",
       "2            0      1         0.0  ...     0.0     0.0     0.0     0.0   \n",
       "\n",
       "   Fare_9  Fare_10  Fare_11  Fare_12  Fare_13  Fare_14  \n",
       "0     0.0      0.0      0.0      0.0      0.0      0.0  \n",
       "1     0.0      0.0      0.0      0.0      1.0      0.0  \n",
       "2     0.0      0.0      0.0      0.0      0.0      0.0  \n",
       "\n",
       "[3 rows x 47 columns]"
      ]
     },
     "execution_count": 582,
     "metadata": {},
     "output_type": "execute_result"
    }
   ],
   "source": [
    "train_data.head(3)"
   ]
  },
  {
   "cell_type": "markdown",
   "id": "4bf28dca-de5e-49ec-9ecd-1a1823bdc50e",
   "metadata": {},
   "source": [
    "### Removing unnecessary features"
   ]
  },
  {
   "cell_type": "code",
   "execution_count": 583,
   "id": "4da923af-207c-4f58-ab8f-4f71eabee343",
   "metadata": {},
   "outputs": [
    {
     "data": {
      "text/html": [
       "<div>\n",
       "<style scoped>\n",
       "    .dataframe tbody tr th:only-of-type {\n",
       "        vertical-align: middle;\n",
       "    }\n",
       "\n",
       "    .dataframe tbody tr th {\n",
       "        vertical-align: top;\n",
       "    }\n",
       "\n",
       "    .dataframe thead th {\n",
       "        text-align: right;\n",
       "    }\n",
       "</style>\n",
       "<table border=\"1\" class=\"dataframe\">\n",
       "  <thead>\n",
       "    <tr style=\"text-align: right;\">\n",
       "      <th></th>\n",
       "      <th>Age_1</th>\n",
       "      <th>Age_2</th>\n",
       "      <th>Age_3</th>\n",
       "      <th>Age_4</th>\n",
       "      <th>Age_5</th>\n",
       "      <th>Age_6</th>\n",
       "      <th>Age_7</th>\n",
       "      <th>Age_8</th>\n",
       "      <th>Age_9</th>\n",
       "      <th>Alone_1</th>\n",
       "      <th>...</th>\n",
       "      <th>Initial_2</th>\n",
       "      <th>Initial_3</th>\n",
       "      <th>Initial_4</th>\n",
       "      <th>Initial_5</th>\n",
       "      <th>Pclass_1</th>\n",
       "      <th>Pclass_2</th>\n",
       "      <th>Pclass_3</th>\n",
       "      <th>Sex_1</th>\n",
       "      <th>Sex_2</th>\n",
       "      <th>Survived</th>\n",
       "    </tr>\n",
       "  </thead>\n",
       "  <tbody>\n",
       "    <tr>\n",
       "      <th>0</th>\n",
       "      <td>0.0</td>\n",
       "      <td>0.0</td>\n",
       "      <td>1.0</td>\n",
       "      <td>0.0</td>\n",
       "      <td>0.0</td>\n",
       "      <td>0.0</td>\n",
       "      <td>0.0</td>\n",
       "      <td>0.0</td>\n",
       "      <td>0.0</td>\n",
       "      <td>1.0</td>\n",
       "      <td>...</td>\n",
       "      <td>0.0</td>\n",
       "      <td>1.0</td>\n",
       "      <td>0.0</td>\n",
       "      <td>0.0</td>\n",
       "      <td>0.0</td>\n",
       "      <td>0.0</td>\n",
       "      <td>1.0</td>\n",
       "      <td>0.0</td>\n",
       "      <td>1.0</td>\n",
       "      <td>0.0</td>\n",
       "    </tr>\n",
       "    <tr>\n",
       "      <th>1</th>\n",
       "      <td>0.0</td>\n",
       "      <td>0.0</td>\n",
       "      <td>0.0</td>\n",
       "      <td>0.0</td>\n",
       "      <td>0.0</td>\n",
       "      <td>0.0</td>\n",
       "      <td>1.0</td>\n",
       "      <td>0.0</td>\n",
       "      <td>0.0</td>\n",
       "      <td>1.0</td>\n",
       "      <td>...</td>\n",
       "      <td>0.0</td>\n",
       "      <td>0.0</td>\n",
       "      <td>1.0</td>\n",
       "      <td>0.0</td>\n",
       "      <td>1.0</td>\n",
       "      <td>0.0</td>\n",
       "      <td>0.0</td>\n",
       "      <td>1.0</td>\n",
       "      <td>0.0</td>\n",
       "      <td>1.0</td>\n",
       "    </tr>\n",
       "    <tr>\n",
       "      <th>2</th>\n",
       "      <td>0.0</td>\n",
       "      <td>0.0</td>\n",
       "      <td>0.0</td>\n",
       "      <td>1.0</td>\n",
       "      <td>0.0</td>\n",
       "      <td>0.0</td>\n",
       "      <td>0.0</td>\n",
       "      <td>0.0</td>\n",
       "      <td>0.0</td>\n",
       "      <td>0.0</td>\n",
       "      <td>...</td>\n",
       "      <td>1.0</td>\n",
       "      <td>0.0</td>\n",
       "      <td>0.0</td>\n",
       "      <td>0.0</td>\n",
       "      <td>0.0</td>\n",
       "      <td>0.0</td>\n",
       "      <td>1.0</td>\n",
       "      <td>1.0</td>\n",
       "      <td>0.0</td>\n",
       "      <td>1.0</td>\n",
       "    </tr>\n",
       "  </tbody>\n",
       "</table>\n",
       "<p>3 rows × 40 columns</p>\n",
       "</div>"
      ],
      "text/plain": [
       "   Age_1  Age_2  Age_3  Age_4  Age_5  Age_6  Age_7  Age_8  Age_9  Alone_1  \\\n",
       "0    0.0    0.0    1.0    0.0    0.0    0.0    0.0    0.0    0.0      1.0   \n",
       "1    0.0    0.0    0.0    0.0    0.0    0.0    1.0    0.0    0.0      1.0   \n",
       "2    0.0    0.0    0.0    1.0    0.0    0.0    0.0    0.0    0.0      0.0   \n",
       "\n",
       "   ...  Initial_2  Initial_3  Initial_4  Initial_5  Pclass_1  Pclass_2  \\\n",
       "0  ...        0.0        1.0        0.0        0.0       0.0       0.0   \n",
       "1  ...        0.0        0.0        1.0        0.0       1.0       0.0   \n",
       "2  ...        1.0        0.0        0.0        0.0       0.0       0.0   \n",
       "\n",
       "   Pclass_3  Sex_1  Sex_2  Survived  \n",
       "0       1.0    0.0    1.0       0.0  \n",
       "1       0.0    1.0    0.0       1.0  \n",
       "2       1.0    1.0    0.0       1.0  \n",
       "\n",
       "[3 rows x 40 columns]"
      ]
     },
     "execution_count": 583,
     "metadata": {},
     "output_type": "execute_result"
    }
   ],
   "source": [
    "all_data = pd.concat([train_data, test_data], sort=True).reset_index(drop=True)\n",
    "drop_cols = ['Embarked', 'Pclass', 'Sex', 'Initial', 'Alone', 'Age', 'Fare']\n",
    "drop_col = ['Survived']\n",
    "\n",
    "all_data.drop(columns=drop_cols, inplace=True)\n",
    "\n",
    "all_data.head(3)"
   ]
  },
  {
   "cell_type": "code",
   "execution_count": 584,
   "id": "bfda08b4-a0eb-4d6a-a87b-ef8e036676e8",
   "metadata": {},
   "outputs": [],
   "source": [
    "X_train = StandardScaler().fit_transform(train_data.drop(columns=drop_cols + drop_col))\n",
    "y_train = train_data['Survived'].values\n",
    "X_test = StandardScaler().fit_transform(test_data.drop(columns=drop_cols))"
   ]
  },
  {
   "cell_type": "code",
   "execution_count": 585,
   "id": "87684313-c94a-409f-ae28-a9e71f0f9007",
   "metadata": {},
   "outputs": [
    {
     "name": "stdout",
     "output_type": "stream",
     "text": [
      "X_train shape: (891, 39)\n",
      "y_train shape: (891,)\n",
      "X_test shape: (418, 39)\n"
     ]
    }
   ],
   "source": [
    "print('X_train shape: {}'.format(X_train.shape))\n",
    "print('y_train shape: {}'.format(y_train.shape))\n",
    "print('X_test shape: {}'.format(X_test.shape))"
   ]
  },
  {
   "cell_type": "markdown",
   "id": "fcc4338c-00a1-4f39-9293-743c9b75eca4",
   "metadata": {},
   "source": [
    "## Predictive Modeling"
   ]
  },
  {
   "cell_type": "code",
   "execution_count": 586,
   "id": "66f10ce7-3212-4907-b43f-82db146fb375",
   "metadata": {},
   "outputs": [
    {
     "data": {
      "text/plain": [
       "83.5"
      ]
     },
     "execution_count": 586,
     "metadata": {},
     "output_type": "execute_result"
    }
   ],
   "source": [
    "# Logistic Regression\n",
    "\n",
    "logreg = LogisticRegression()\n",
    "logreg.fit(X_train, y_train)\n",
    "Y_pred = logreg.predict(X_test)\n",
    "acc_log = round(logreg.score(X_train, y_train) * 100, 2)\n",
    "acc_log"
   ]
  },
  {
   "cell_type": "code",
   "execution_count": 587,
   "id": "19316ac2-c745-4833-8447-6d08028fd491",
   "metadata": {},
   "outputs": [
    {
     "data": {
      "text/plain": [
       "87.21"
      ]
     },
     "execution_count": 587,
     "metadata": {},
     "output_type": "execute_result"
    }
   ],
   "source": [
    "# Support Vector Machines\n",
    "\n",
    "svc = SVC()\n",
    "svc.fit(X_train, y_train)\n",
    "Y_pred = svc.predict(X_test)\n",
    "acc_svc = round(svc.score(X_train, y_train) * 100, 2)\n",
    "acc_svc\n"
   ]
  },
  {
   "cell_type": "code",
   "execution_count": 588,
   "id": "fe515480-de2c-46d3-b186-323882761afd",
   "metadata": {},
   "outputs": [
    {
     "data": {
      "text/plain": [
       "86.98"
      ]
     },
     "execution_count": 588,
     "metadata": {},
     "output_type": "execute_result"
    }
   ],
   "source": [
    "# KNN\n",
    "\n",
    "knn = KNeighborsClassifier(n_neighbors = 3)\n",
    "knn.fit(X_train, y_train)\n",
    "Y_pred = knn.predict(X_test)\n",
    "acc_knn = round(knn.score(X_train, y_train) * 100, 2)\n",
    "acc_knn"
   ]
  },
  {
   "cell_type": "code",
   "execution_count": 589,
   "id": "19b8a88f-9daf-469a-9abc-e356c592cbc3",
   "metadata": {},
   "outputs": [
    {
     "data": {
      "text/plain": [
       "76.99"
      ]
     },
     "execution_count": 589,
     "metadata": {},
     "output_type": "execute_result"
    }
   ],
   "source": [
    "# Gaussian Naive Bayes\n",
    "\n",
    "gaussian = GaussianNB()\n",
    "gaussian.fit(X_train, y_train)\n",
    "Y_pred = gaussian.predict(X_test)\n",
    "acc_gaussian = round(gaussian.score(X_train, y_train) * 100, 2)\n",
    "acc_gaussian"
   ]
  },
  {
   "cell_type": "code",
   "execution_count": 590,
   "id": "46e264da-0f38-4a20-98fd-f213dbae523f",
   "metadata": {},
   "outputs": [
    {
     "data": {
      "text/plain": [
       "81.48"
      ]
     },
     "execution_count": 590,
     "metadata": {},
     "output_type": "execute_result"
    }
   ],
   "source": [
    "# Perceptron\n",
    "\n",
    "perceptron = Perceptron()\n",
    "perceptron.fit(X_train, y_train)\n",
    "Y_pred = perceptron.predict(X_test)\n",
    "acc_perceptron = round(perceptron.score(X_train, y_train) * 100, 2)\n",
    "acc_perceptron"
   ]
  },
  {
   "cell_type": "code",
   "execution_count": 591,
   "id": "3d5fd892-8130-4cdd-9715-6cf22b399370",
   "metadata": {},
   "outputs": [
    {
     "name": "stderr",
     "output_type": "stream",
     "text": [
      "/Users/mac/anaconda3/lib/python3.10/site-packages/sklearn/svm/_base.py:1244: ConvergenceWarning: Liblinear failed to converge, increase the number of iterations.\n",
      "  warnings.warn(\n"
     ]
    },
    {
     "data": {
      "text/plain": [
       "83.5"
      ]
     },
     "execution_count": 591,
     "metadata": {},
     "output_type": "execute_result"
    }
   ],
   "source": [
    "# Linear SVC\n",
    "\n",
    "linear_svc = LinearSVC()\n",
    "linear_svc.fit(X_train, y_train)\n",
    "Y_pred = linear_svc.predict(X_test)\n",
    "acc_linear_svc = round(linear_svc.score(X_train, y_train) * 100, 2)\n",
    "acc_linear_svc"
   ]
  },
  {
   "cell_type": "code",
   "execution_count": 592,
   "id": "df02d8ac-3616-4545-bfbb-81bced3e27db",
   "metadata": {},
   "outputs": [
    {
     "data": {
      "text/plain": [
       "80.02"
      ]
     },
     "execution_count": 592,
     "metadata": {},
     "output_type": "execute_result"
    }
   ],
   "source": [
    "# Stochastic Gradient Descent\n",
    "\n",
    "sgd = SGDClassifier()\n",
    "sgd.fit(X_train, y_train)\n",
    "Y_pred = sgd.predict(X_test)\n",
    "acc_sgd = round(sgd.score(X_train, y_train) * 100, 2)\n",
    "acc_sgd"
   ]
  },
  {
   "cell_type": "code",
   "execution_count": 593,
   "id": "09966d03-a9ce-4e20-86e3-d8e73be97850",
   "metadata": {},
   "outputs": [
    {
     "data": {
      "text/plain": [
       "93.04"
      ]
     },
     "execution_count": 593,
     "metadata": {},
     "output_type": "execute_result"
    }
   ],
   "source": [
    "# Decision Tree\n",
    "\n",
    "decision_tree = DecisionTreeClassifier()\n",
    "decision_tree.fit(X_train, y_train)\n",
    "Y_pred = decision_tree.predict(X_test)\n",
    "acc_decision_tree = round(decision_tree.score(X_train, y_train) * 100, 2)\n",
    "acc_decision_tree"
   ]
  },
  {
   "cell_type": "code",
   "execution_count": 594,
   "id": "583d772e-4b2e-4c68-9bbb-d5aebad11a75",
   "metadata": {},
   "outputs": [
    {
     "data": {
      "text/plain": [
       "93.04"
      ]
     },
     "execution_count": 594,
     "metadata": {},
     "output_type": "execute_result"
    }
   ],
   "source": [
    "# Random Forest\n",
    "\n",
    "random_forest = RandomForestClassifier(n_estimators=100)\n",
    "random_forest.fit(X_train, y_train)\n",
    "Y_pred = random_forest.predict(X_test)\n",
    "random_forest.score(X_train, y_train)\n",
    "acc_random_forest = round(random_forest.score(X_train, y_train) * 100, 2)\n",
    "acc_random_forest"
   ]
  },
  {
   "cell_type": "code",
   "execution_count": 595,
   "id": "ef96e707-60b5-4a13-8bc7-f4215d303c04",
   "metadata": {},
   "outputs": [
    {
     "data": {
      "text/html": [
       "<div>\n",
       "<style scoped>\n",
       "    .dataframe tbody tr th:only-of-type {\n",
       "        vertical-align: middle;\n",
       "    }\n",
       "\n",
       "    .dataframe tbody tr th {\n",
       "        vertical-align: top;\n",
       "    }\n",
       "\n",
       "    .dataframe thead th {\n",
       "        text-align: right;\n",
       "    }\n",
       "</style>\n",
       "<table border=\"1\" class=\"dataframe\">\n",
       "  <thead>\n",
       "    <tr style=\"text-align: right;\">\n",
       "      <th></th>\n",
       "      <th>Model</th>\n",
       "      <th>Score</th>\n",
       "    </tr>\n",
       "  </thead>\n",
       "  <tbody>\n",
       "    <tr>\n",
       "      <th>3</th>\n",
       "      <td>Random Forest</td>\n",
       "      <td>93.04</td>\n",
       "    </tr>\n",
       "    <tr>\n",
       "      <th>8</th>\n",
       "      <td>Decision Tree</td>\n",
       "      <td>93.04</td>\n",
       "    </tr>\n",
       "    <tr>\n",
       "      <th>0</th>\n",
       "      <td>Support Vector Machines</td>\n",
       "      <td>87.21</td>\n",
       "    </tr>\n",
       "    <tr>\n",
       "      <th>1</th>\n",
       "      <td>KNN</td>\n",
       "      <td>86.98</td>\n",
       "    </tr>\n",
       "    <tr>\n",
       "      <th>2</th>\n",
       "      <td>Logistic Regression</td>\n",
       "      <td>83.50</td>\n",
       "    </tr>\n",
       "    <tr>\n",
       "      <th>7</th>\n",
       "      <td>Linear SVC</td>\n",
       "      <td>83.50</td>\n",
       "    </tr>\n",
       "    <tr>\n",
       "      <th>5</th>\n",
       "      <td>Perceptron</td>\n",
       "      <td>81.48</td>\n",
       "    </tr>\n",
       "    <tr>\n",
       "      <th>6</th>\n",
       "      <td>Stochastic Gradient Decent</td>\n",
       "      <td>80.02</td>\n",
       "    </tr>\n",
       "    <tr>\n",
       "      <th>4</th>\n",
       "      <td>Naive Bayes</td>\n",
       "      <td>76.99</td>\n",
       "    </tr>\n",
       "  </tbody>\n",
       "</table>\n",
       "</div>"
      ],
      "text/plain": [
       "                        Model  Score\n",
       "3               Random Forest  93.04\n",
       "8               Decision Tree  93.04\n",
       "0     Support Vector Machines  87.21\n",
       "1                         KNN  86.98\n",
       "2         Logistic Regression  83.50\n",
       "7                  Linear SVC  83.50\n",
       "5                  Perceptron  81.48\n",
       "6  Stochastic Gradient Decent  80.02\n",
       "4                 Naive Bayes  76.99"
      ]
     },
     "execution_count": 595,
     "metadata": {},
     "output_type": "execute_result"
    }
   ],
   "source": [
    "models = pd.DataFrame({\n",
    "    'Model': ['Support Vector Machines', 'KNN', 'Logistic Regression', \n",
    "              'Random Forest', 'Naive Bayes', 'Perceptron', \n",
    "              'Stochastic Gradient Decent', 'Linear SVC', \n",
    "              'Decision Tree'],\n",
    "    'Score': [acc_svc, acc_knn, acc_log, \n",
    "              acc_random_forest, acc_gaussian, acc_perceptron, \n",
    "              acc_sgd, acc_linear_svc, acc_decision_tree]})\n",
    "models.sort_values(by='Score', ascending=False)"
   ]
  }
 ],
 "metadata": {
  "kernelspec": {
   "display_name": "Python 3 (ipykernel)",
   "language": "python",
   "name": "python3"
  },
  "language_info": {
   "codemirror_mode": {
    "name": "ipython",
    "version": 3
   },
   "file_extension": ".py",
   "mimetype": "text/x-python",
   "name": "python",
   "nbconvert_exporter": "python",
   "pygments_lexer": "ipython3",
   "version": "3.10.9"
  }
 },
 "nbformat": 4,
 "nbformat_minor": 5
}
